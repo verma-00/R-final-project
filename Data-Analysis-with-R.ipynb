{
 "cells": [
  {
   "cell_type": "code",
   "execution_count": 1,
   "id": "7b66cecc-af67-4047-b74f-04d1d6ede520",
   "metadata": {},
   "outputs": [
    {
     "name": "stderr",
     "output_type": "stream",
     "text": [
      "Updating HTML index of packages in '.Library'\n",
      "Making 'packages.html' ... done\n",
      "Updating HTML index of packages in '.Library'\n",
      "Making 'packages.html' ... done\n",
      "also installing the dependency ‘vroom’\n",
      "\n",
      "Updating HTML index of packages in '.Library'\n",
      "Making 'packages.html' ... done\n"
     ]
    }
   ],
   "source": [
    "install.packages(\"rlang\")\n",
    "install.packages(\"tidymodels\")\n",
    "install.packages(\"readr\")"
   ]
  },
  {
   "cell_type": "code",
   "execution_count": 2,
   "id": "ea2f939a-ef46-4c61-9ce2-5dfe7a8afba2",
   "metadata": {},
   "outputs": [
    {
     "name": "stderr",
     "output_type": "stream",
     "text": [
      "── Attaching packages ────────────────────────────────────── tidymodels 1.0.0 ──\n",
      "✔ broom        1.0.1      ✔ recipes      1.0.1 \n",
      "✔ dials        1.0.0      ✔ rsample      1.1.0 \n",
      "✔ dplyr        1.0.10     ✔ tibble       3.1.8 \n",
      "✔ ggplot2      3.3.6      ✔ tidyr        1.2.1 \n",
      "✔ infer        1.0.3      ✔ tune         1.0.0 \n",
      "✔ modeldata    1.0.1      ✔ workflows    1.1.0 \n",
      "✔ parsnip      1.0.1      ✔ workflowsets 1.0.0 \n",
      "✔ purrr        0.3.4      ✔ yardstick    1.1.0 \n",
      "── Conflicts ───────────────────────────────────────── tidymodels_conflicts() ──\n",
      "✖ purrr::discard() masks scales::discard()\n",
      "✖ dplyr::filter()  masks stats::filter()\n",
      "✖ dplyr::lag()     masks stats::lag()\n",
      "✖ recipes::step()  masks stats::step()\n",
      "• Search for functions across packages at https://www.tidymodels.org/find/\n",
      "── Attaching packages ─────────────────────────────────────── tidyverse 1.3.0 ──\n",
      "✔ readr   2.1.2     ✔ forcats 0.5.0\n",
      "✔ stringr 1.4.0     \n",
      "── Conflicts ────────────────────────────────────────── tidyverse_conflicts() ──\n",
      "✖ readr::col_factor() masks scales::col_factor()\n",
      "✖ purrr::discard()    masks scales::discard()\n",
      "✖ dplyr::filter()     masks stats::filter()\n",
      "✖ stringr::fixed()    masks recipes::fixed()\n",
      "✖ dplyr::lag()        masks stats::lag()\n",
      "✖ readr::spec()       masks yardstick::spec()\n"
     ]
    }
   ],
   "source": [
    "library(tidymodels)\n",
    "library(tidyverse)\n",
    "library(readr)"
   ]
  },
  {
   "cell_type": "code",
   "execution_count": 3,
   "id": "1794353d-191b-41c4-a93b-d4189ca90055",
   "metadata": {},
   "outputs": [
    {
     "name": "stderr",
     "output_type": "stream",
     "text": [
      "Warning message:\n",
      "“One or more parsing issues, see `problems()` for details”"
     ]
    }
   ],
   "source": [
    "url<-\"https://dax-cdn.cdn.appdomain.cloud/dax-noaa-weather-data-jfk-airport/1.1.4/noaa-weather-sample-data.tar.gz\"\n",
    "download.file(url, destfile=\"noaa-weather-sample-data.tar.gz\")\n",
    "untar<-(\"noaa-weather-sample-data.tar.gz\")\n",
    "weather<-read_csv(\"noaa-weather-sample-data/jfk_weather_sample.csv\", col_types=cols('HOURLYPrecip'=col_number(),\n",
    "                                                                                   'HOURLYWindSpeed'=col_number()))"
   ]
  },
  {
   "cell_type": "code",
   "execution_count": 4,
   "id": "e44f41d5-33e6-46e1-ac52-c51e41cf3254",
   "metadata": {},
   "outputs": [
    {
     "data": {
      "text/html": [
       "<table>\n",
       "<caption>A tibble: 6 × 9</caption>\n",
       "<thead>\n",
       "\t<tr><th scope=col>DATE</th><th scope=col>HOURLYDewPointTempF</th><th scope=col>HOURLYRelativeHumidity</th><th scope=col>HOURLYDRYBULBTEMPF</th><th scope=col>HOURLYWETBULBTEMPF</th><th scope=col>HOURLYPrecip</th><th scope=col>HOURLYWindSpeed</th><th scope=col>HOURLYSeaLevelPressure</th><th scope=col>HOURLYStationPressure</th></tr>\n",
       "\t<tr><th scope=col>&lt;dttm&gt;</th><th scope=col>&lt;dbl&gt;</th><th scope=col>&lt;dbl&gt;</th><th scope=col>&lt;dbl&gt;</th><th scope=col>&lt;dbl&gt;</th><th scope=col>&lt;dbl&gt;</th><th scope=col>&lt;dbl&gt;</th><th scope=col>&lt;dbl&gt;</th><th scope=col>&lt;dbl&gt;</th></tr>\n",
       "</thead>\n",
       "<tbody>\n",
       "\t<tr><td>2015-07-25 13:51:00</td><td>60</td><td>46</td><td>83</td><td>68</td><td> 0</td><td>13</td><td>30.01</td><td>29.99</td></tr>\n",
       "\t<tr><td>2016-11-18 23:51:00</td><td>34</td><td>48</td><td>53</td><td>44</td><td> 0</td><td> 6</td><td>30.05</td><td>30.03</td></tr>\n",
       "\t<tr><td>2013-01-06 08:51:00</td><td>33</td><td>89</td><td>36</td><td>35</td><td> 0</td><td>13</td><td>30.14</td><td>30.12</td></tr>\n",
       "\t<tr><td>2011-01-27 16:51:00</td><td>18</td><td>48</td><td>36</td><td>30</td><td> 0</td><td>14</td><td>29.82</td><td>29.80</td></tr>\n",
       "\t<tr><td>2015-01-03 12:16:00</td><td>27</td><td>61</td><td>39</td><td>34</td><td>NA</td><td>11</td><td>   NA</td><td>30.50</td></tr>\n",
       "\t<tr><td>2013-02-15 20:51:00</td><td>35</td><td>79</td><td>41</td><td>38</td><td> 0</td><td> 6</td><td>29.94</td><td>29.92</td></tr>\n",
       "</tbody>\n",
       "</table>\n"
      ],
      "text/latex": [
       "A tibble: 6 × 9\n",
       "\\begin{tabular}{lllllllll}\n",
       " DATE & HOURLYDewPointTempF & HOURLYRelativeHumidity & HOURLYDRYBULBTEMPF & HOURLYWETBULBTEMPF & HOURLYPrecip & HOURLYWindSpeed & HOURLYSeaLevelPressure & HOURLYStationPressure\\\\\n",
       " <dttm> & <dbl> & <dbl> & <dbl> & <dbl> & <dbl> & <dbl> & <dbl> & <dbl>\\\\\n",
       "\\hline\n",
       "\t 2015-07-25 13:51:00 & 60 & 46 & 83 & 68 &  0 & 13 & 30.01 & 29.99\\\\\n",
       "\t 2016-11-18 23:51:00 & 34 & 48 & 53 & 44 &  0 &  6 & 30.05 & 30.03\\\\\n",
       "\t 2013-01-06 08:51:00 & 33 & 89 & 36 & 35 &  0 & 13 & 30.14 & 30.12\\\\\n",
       "\t 2011-01-27 16:51:00 & 18 & 48 & 36 & 30 &  0 & 14 & 29.82 & 29.80\\\\\n",
       "\t 2015-01-03 12:16:00 & 27 & 61 & 39 & 34 & NA & 11 &    NA & 30.50\\\\\n",
       "\t 2013-02-15 20:51:00 & 35 & 79 & 41 & 38 &  0 &  6 & 29.94 & 29.92\\\\\n",
       "\\end{tabular}\n"
      ],
      "text/markdown": [
       "\n",
       "A tibble: 6 × 9\n",
       "\n",
       "| DATE &lt;dttm&gt; | HOURLYDewPointTempF &lt;dbl&gt; | HOURLYRelativeHumidity &lt;dbl&gt; | HOURLYDRYBULBTEMPF &lt;dbl&gt; | HOURLYWETBULBTEMPF &lt;dbl&gt; | HOURLYPrecip &lt;dbl&gt; | HOURLYWindSpeed &lt;dbl&gt; | HOURLYSeaLevelPressure &lt;dbl&gt; | HOURLYStationPressure &lt;dbl&gt; |\n",
       "|---|---|---|---|---|---|---|---|---|\n",
       "| 2015-07-25 13:51:00 | 60 | 46 | 83 | 68 |  0 | 13 | 30.01 | 29.99 |\n",
       "| 2016-11-18 23:51:00 | 34 | 48 | 53 | 44 |  0 |  6 | 30.05 | 30.03 |\n",
       "| 2013-01-06 08:51:00 | 33 | 89 | 36 | 35 |  0 | 13 | 30.14 | 30.12 |\n",
       "| 2011-01-27 16:51:00 | 18 | 48 | 36 | 30 |  0 | 14 | 29.82 | 29.80 |\n",
       "| 2015-01-03 12:16:00 | 27 | 61 | 39 | 34 | NA | 11 |    NA | 30.50 |\n",
       "| 2013-02-15 20:51:00 | 35 | 79 | 41 | 38 |  0 |  6 | 29.94 | 29.92 |\n",
       "\n"
      ],
      "text/plain": [
       "  DATE                HOURLYDewPointTempF HOURLYRelativeHumidity\n",
       "1 2015-07-25 13:51:00 60                  46                    \n",
       "2 2016-11-18 23:51:00 34                  48                    \n",
       "3 2013-01-06 08:51:00 33                  89                    \n",
       "4 2011-01-27 16:51:00 18                  48                    \n",
       "5 2015-01-03 12:16:00 27                  61                    \n",
       "6 2013-02-15 20:51:00 35                  79                    \n",
       "  HOURLYDRYBULBTEMPF HOURLYWETBULBTEMPF HOURLYPrecip HOURLYWindSpeed\n",
       "1 83                 68                  0           13             \n",
       "2 53                 44                  0            6             \n",
       "3 36                 35                  0           13             \n",
       "4 36                 30                  0           14             \n",
       "5 39                 34                 NA           11             \n",
       "6 41                 38                  0            6             \n",
       "  HOURLYSeaLevelPressure HOURLYStationPressure\n",
       "1 30.01                  29.99                \n",
       "2 30.05                  30.03                \n",
       "3 30.14                  30.12                \n",
       "4 29.82                  29.80                \n",
       "5    NA                  30.50                \n",
       "6 29.94                  29.92                "
      ]
     },
     "metadata": {},
     "output_type": "display_data"
    }
   ],
   "source": [
    "head(weather)"
   ]
  },
  {
   "cell_type": "code",
   "execution_count": 5,
   "id": "66f3a19a-ccd7-4d15-a6b4-c273a72f27a7",
   "metadata": {},
   "outputs": [
    {
     "name": "stdout",
     "output_type": "stream",
     "text": [
      "Rows: 5,727\n",
      "Columns: 9\n",
      "$ DATE                   <dttm> 2015-07-25 13:51:00, 2016-11-18 23:51:00, 2013…\n",
      "$ HOURLYDewPointTempF    <dbl> 60, 34, 33, 18, 27, 35, 4, 14, 51, 71, 76, 19, …\n",
      "$ HOURLYRelativeHumidity <dbl> 46, 48, 89, 48, 61, 79, 51, 65, 90, 94, 79, 37,…\n",
      "$ HOURLYDRYBULBTEMPF     <dbl> 83, 53, 36, 36, 39, 41, 19, 24, 54, 73, 83, 44,…\n",
      "$ HOURLYWETBULBTEMPF     <dbl> 68, 44, 35, 30, 34, 38, 15, 21, 52, 72, 78, 35,…\n",
      "$ HOURLYPrecip           <dbl> 0.00, 0.00, 0.00, 0.00, NA, 0.00, 0.00, 0.00, 0…\n",
      "$ HOURLYWindSpeed        <dbl> 13, 6, 13, 14, 11, 6, 0, 11, 11, 5, 21, 7, 17, …\n",
      "$ HOURLYSeaLevelPressure <dbl> 30.01, 30.05, 30.14, 29.82, NA, 29.94, 30.42, 3…\n",
      "$ HOURLYStationPressure  <dbl> 29.99, 30.03, 30.12, 29.80, 30.50, 29.92, 30.40…\n"
     ]
    }
   ],
   "source": [
    "glimpse(weather)"
   ]
  },
  {
   "cell_type": "code",
   "execution_count": 9,
   "id": "be4a4002-eb18-48b4-8308-9b8ff8607175",
   "metadata": {},
   "outputs": [],
   "source": [
    "new_weather<-weather%>%select(c(HOURLYRelativeHumidity, HOURLYDRYBULBTEMPF, HOURLYPrecip, HOURLYWindSpeed, HOURLYStationPressure))"
   ]
  },
  {
   "cell_type": "code",
   "execution_count": 10,
   "id": "051f7aae-2de8-4b3f-988f-cdc3bab4f9dd",
   "metadata": {},
   "outputs": [
    {
     "data": {
      "text/html": [
       "<table>\n",
       "<caption>A tibble: 5727 × 5</caption>\n",
       "<thead>\n",
       "\t<tr><th scope=col>HOURLYRelativeHumidity</th><th scope=col>HOURLYDRYBULBTEMPF</th><th scope=col>HOURLYPrecip</th><th scope=col>HOURLYWindSpeed</th><th scope=col>HOURLYStationPressure</th></tr>\n",
       "\t<tr><th scope=col>&lt;dbl&gt;</th><th scope=col>&lt;dbl&gt;</th><th scope=col>&lt;dbl&gt;</th><th scope=col>&lt;dbl&gt;</th><th scope=col>&lt;dbl&gt;</th></tr>\n",
       "</thead>\n",
       "<tbody>\n",
       "\t<tr><td>46</td><td>83</td><td>0.00</td><td>13</td><td>29.99</td></tr>\n",
       "\t<tr><td>48</td><td>53</td><td>0.00</td><td> 6</td><td>30.03</td></tr>\n",
       "\t<tr><td>89</td><td>36</td><td>0.00</td><td>13</td><td>30.12</td></tr>\n",
       "\t<tr><td>48</td><td>36</td><td>0.00</td><td>14</td><td>29.80</td></tr>\n",
       "\t<tr><td>61</td><td>39</td><td>  NA</td><td>11</td><td>30.50</td></tr>\n",
       "\t<tr><td>79</td><td>41</td><td>0.00</td><td> 6</td><td>29.92</td></tr>\n",
       "\t<tr><td>51</td><td>19</td><td>0.00</td><td> 0</td><td>30.40</td></tr>\n",
       "\t<tr><td>65</td><td>24</td><td>0.00</td><td>11</td><td>30.35</td></tr>\n",
       "\t<tr><td>90</td><td>54</td><td>0.06</td><td>11</td><td>30.03</td></tr>\n",
       "\t<tr><td>94</td><td>73</td><td>  NA</td><td> 5</td><td>29.91</td></tr>\n",
       "\t<tr><td>79</td><td>83</td><td>  NA</td><td>21</td><td>29.75</td></tr>\n",
       "\t<tr><td>37</td><td>44</td><td>0.00</td><td> 7</td><td>30.25</td></tr>\n",
       "\t<tr><td>72</td><td>57</td><td>0.00</td><td>17</td><td>29.84</td></tr>\n",
       "\t<tr><td>47</td><td>78</td><td>0.00</td><td> 8</td><td>30.16</td></tr>\n",
       "\t<tr><td>84</td><td>75</td><td>0.00</td><td> 3</td><td>30.17</td></tr>\n",
       "\t<tr><td>57</td><td>37</td><td>0.00</td><td>11</td><td>30.01</td></tr>\n",
       "\t<tr><td>37</td><td>73</td><td>0.00</td><td>13</td><td>29.96</td></tr>\n",
       "\t<tr><td>75</td><td>58</td><td>  NA</td><td> 9</td><td>30.28</td></tr>\n",
       "\t<tr><td>92</td><td>32</td><td>0.03</td><td> 9</td><td>29.59</td></tr>\n",
       "\t<tr><td>79</td><td>42</td><td>  NA</td><td> 3</td><td>30.10</td></tr>\n",
       "\t<tr><td>94</td><td>68</td><td>0.03</td><td>18</td><td>29.68</td></tr>\n",
       "\t<tr><td>71</td><td>71</td><td>  NA</td><td> 6</td><td>29.94</td></tr>\n",
       "\t<tr><td>78</td><td>57</td><td>0.00</td><td>10</td><td>30.49</td></tr>\n",
       "\t<tr><td>55</td><td>73</td><td>0.00</td><td>15</td><td>29.84</td></tr>\n",
       "\t<tr><td>79</td><td>44</td><td>0.02</td><td>23</td><td>29.66</td></tr>\n",
       "\t<tr><td>83</td><td>55</td><td>  NA</td><td> 3</td><td>30.11</td></tr>\n",
       "\t<tr><td>74</td><td>75</td><td>0.00</td><td>14</td><td>29.78</td></tr>\n",
       "\t<tr><td>36</td><td>47</td><td>  NA</td><td>13</td><td>29.85</td></tr>\n",
       "\t<tr><td>89</td><td>42</td><td>  NA</td><td>22</td><td>29.58</td></tr>\n",
       "\t<tr><td>42</td><td>24</td><td>0.00</td><td>22</td><td>29.79</td></tr>\n",
       "\t<tr><td>⋮</td><td>⋮</td><td>⋮</td><td>⋮</td><td>⋮</td></tr>\n",
       "\t<tr><td> 71</td><td>51</td><td>  NA</td><td>13</td><td>29.77</td></tr>\n",
       "\t<tr><td> 62</td><td>76</td><td>0.00</td><td>21</td><td>29.97</td></tr>\n",
       "\t<tr><td> 94</td><td>54</td><td>  NA</td><td> 8</td><td>29.57</td></tr>\n",
       "\t<tr><td> 53</td><td>71</td><td>0.00</td><td> 6</td><td>29.99</td></tr>\n",
       "\t<tr><td> 90</td><td>75</td><td>0.00</td><td>10</td><td>29.95</td></tr>\n",
       "\t<tr><td> 40</td><td>63</td><td>0.00</td><td>11</td><td>30.07</td></tr>\n",
       "\t<tr><td> 40</td><td>46</td><td>0.00</td><td>14</td><td>30.30</td></tr>\n",
       "\t<tr><td> 67</td><td>84</td><td>0.00</td><td> 8</td><td>29.83</td></tr>\n",
       "\t<tr><td> 60</td><td>75</td><td>0.00</td><td> 9</td><td>29.98</td></tr>\n",
       "\t<tr><td> 87</td><td>58</td><td>0.02</td><td>10</td><td>29.87</td></tr>\n",
       "\t<tr><td> 54</td><td>34</td><td>0.00</td><td> 7</td><td>30.63</td></tr>\n",
       "\t<tr><td> 79</td><td>74</td><td>0.00</td><td>14</td><td>29.97</td></tr>\n",
       "\t<tr><td> 79</td><td>67</td><td>  NA</td><td> 5</td><td>30.17</td></tr>\n",
       "\t<tr><td> 57</td><td>36</td><td>0.00</td><td>20</td><td>29.72</td></tr>\n",
       "\t<tr><td> 71</td><td>67</td><td>0.00</td><td> 7</td><td>29.88</td></tr>\n",
       "\t<tr><td> 54</td><td>19</td><td>0.00</td><td> 9</td><td>30.36</td></tr>\n",
       "\t<tr><td> 34</td><td>54</td><td>0.00</td><td>13</td><td>29.97</td></tr>\n",
       "\t<tr><td> 32</td><td>18</td><td>0.00</td><td>20</td><td>30.48</td></tr>\n",
       "\t<tr><td> 78</td><td>26</td><td>  NA</td><td>22</td><td>29.91</td></tr>\n",
       "\t<tr><td> 52</td><td>18</td><td>0.00</td><td> 8</td><td>30.00</td></tr>\n",
       "\t<tr><td>100</td><td>40</td><td>0.03</td><td> 9</td><td>30.00</td></tr>\n",
       "\t<tr><td> 49</td><td>57</td><td>0.00</td><td>16</td><td>29.90</td></tr>\n",
       "\t<tr><td> 66</td><td>67</td><td>0.00</td><td>16</td><td>30.26</td></tr>\n",
       "\t<tr><td> 97</td><td>38</td><td>0.01</td><td>17</td><td>29.65</td></tr>\n",
       "\t<tr><td> 64</td><td>72</td><td>0.00</td><td> 9</td><td>30.21</td></tr>\n",
       "\t<tr><td> 67</td><td>61</td><td>0.00</td><td> 6</td><td>29.72</td></tr>\n",
       "\t<tr><td> NA</td><td>NA</td><td>  NA</td><td>NA</td><td>   NA</td></tr>\n",
       "\t<tr><td> 48</td><td>53</td><td>0.00</td><td> 3</td><td>30.26</td></tr>\n",
       "\t<tr><td> 75</td><td>32</td><td>0.00</td><td> 7</td><td>29.69</td></tr>\n",
       "\t<tr><td> 52</td><td>38</td><td>0.00</td><td> 0</td><td>29.97</td></tr>\n",
       "</tbody>\n",
       "</table>\n"
      ],
      "text/latex": [
       "A tibble: 5727 × 5\n",
       "\\begin{tabular}{lllll}\n",
       " HOURLYRelativeHumidity & HOURLYDRYBULBTEMPF & HOURLYPrecip & HOURLYWindSpeed & HOURLYStationPressure\\\\\n",
       " <dbl> & <dbl> & <dbl> & <dbl> & <dbl>\\\\\n",
       "\\hline\n",
       "\t 46 & 83 & 0.00 & 13 & 29.99\\\\\n",
       "\t 48 & 53 & 0.00 &  6 & 30.03\\\\\n",
       "\t 89 & 36 & 0.00 & 13 & 30.12\\\\\n",
       "\t 48 & 36 & 0.00 & 14 & 29.80\\\\\n",
       "\t 61 & 39 &   NA & 11 & 30.50\\\\\n",
       "\t 79 & 41 & 0.00 &  6 & 29.92\\\\\n",
       "\t 51 & 19 & 0.00 &  0 & 30.40\\\\\n",
       "\t 65 & 24 & 0.00 & 11 & 30.35\\\\\n",
       "\t 90 & 54 & 0.06 & 11 & 30.03\\\\\n",
       "\t 94 & 73 &   NA &  5 & 29.91\\\\\n",
       "\t 79 & 83 &   NA & 21 & 29.75\\\\\n",
       "\t 37 & 44 & 0.00 &  7 & 30.25\\\\\n",
       "\t 72 & 57 & 0.00 & 17 & 29.84\\\\\n",
       "\t 47 & 78 & 0.00 &  8 & 30.16\\\\\n",
       "\t 84 & 75 & 0.00 &  3 & 30.17\\\\\n",
       "\t 57 & 37 & 0.00 & 11 & 30.01\\\\\n",
       "\t 37 & 73 & 0.00 & 13 & 29.96\\\\\n",
       "\t 75 & 58 &   NA &  9 & 30.28\\\\\n",
       "\t 92 & 32 & 0.03 &  9 & 29.59\\\\\n",
       "\t 79 & 42 &   NA &  3 & 30.10\\\\\n",
       "\t 94 & 68 & 0.03 & 18 & 29.68\\\\\n",
       "\t 71 & 71 &   NA &  6 & 29.94\\\\\n",
       "\t 78 & 57 & 0.00 & 10 & 30.49\\\\\n",
       "\t 55 & 73 & 0.00 & 15 & 29.84\\\\\n",
       "\t 79 & 44 & 0.02 & 23 & 29.66\\\\\n",
       "\t 83 & 55 &   NA &  3 & 30.11\\\\\n",
       "\t 74 & 75 & 0.00 & 14 & 29.78\\\\\n",
       "\t 36 & 47 &   NA & 13 & 29.85\\\\\n",
       "\t 89 & 42 &   NA & 22 & 29.58\\\\\n",
       "\t 42 & 24 & 0.00 & 22 & 29.79\\\\\n",
       "\t ⋮ & ⋮ & ⋮ & ⋮ & ⋮\\\\\n",
       "\t  71 & 51 &   NA & 13 & 29.77\\\\\n",
       "\t  62 & 76 & 0.00 & 21 & 29.97\\\\\n",
       "\t  94 & 54 &   NA &  8 & 29.57\\\\\n",
       "\t  53 & 71 & 0.00 &  6 & 29.99\\\\\n",
       "\t  90 & 75 & 0.00 & 10 & 29.95\\\\\n",
       "\t  40 & 63 & 0.00 & 11 & 30.07\\\\\n",
       "\t  40 & 46 & 0.00 & 14 & 30.30\\\\\n",
       "\t  67 & 84 & 0.00 &  8 & 29.83\\\\\n",
       "\t  60 & 75 & 0.00 &  9 & 29.98\\\\\n",
       "\t  87 & 58 & 0.02 & 10 & 29.87\\\\\n",
       "\t  54 & 34 & 0.00 &  7 & 30.63\\\\\n",
       "\t  79 & 74 & 0.00 & 14 & 29.97\\\\\n",
       "\t  79 & 67 &   NA &  5 & 30.17\\\\\n",
       "\t  57 & 36 & 0.00 & 20 & 29.72\\\\\n",
       "\t  71 & 67 & 0.00 &  7 & 29.88\\\\\n",
       "\t  54 & 19 & 0.00 &  9 & 30.36\\\\\n",
       "\t  34 & 54 & 0.00 & 13 & 29.97\\\\\n",
       "\t  32 & 18 & 0.00 & 20 & 30.48\\\\\n",
       "\t  78 & 26 &   NA & 22 & 29.91\\\\\n",
       "\t  52 & 18 & 0.00 &  8 & 30.00\\\\\n",
       "\t 100 & 40 & 0.03 &  9 & 30.00\\\\\n",
       "\t  49 & 57 & 0.00 & 16 & 29.90\\\\\n",
       "\t  66 & 67 & 0.00 & 16 & 30.26\\\\\n",
       "\t  97 & 38 & 0.01 & 17 & 29.65\\\\\n",
       "\t  64 & 72 & 0.00 &  9 & 30.21\\\\\n",
       "\t  67 & 61 & 0.00 &  6 & 29.72\\\\\n",
       "\t  NA & NA &   NA & NA &    NA\\\\\n",
       "\t  48 & 53 & 0.00 &  3 & 30.26\\\\\n",
       "\t  75 & 32 & 0.00 &  7 & 29.69\\\\\n",
       "\t  52 & 38 & 0.00 &  0 & 29.97\\\\\n",
       "\\end{tabular}\n"
      ],
      "text/markdown": [
       "\n",
       "A tibble: 5727 × 5\n",
       "\n",
       "| HOURLYRelativeHumidity &lt;dbl&gt; | HOURLYDRYBULBTEMPF &lt;dbl&gt; | HOURLYPrecip &lt;dbl&gt; | HOURLYWindSpeed &lt;dbl&gt; | HOURLYStationPressure &lt;dbl&gt; |\n",
       "|---|---|---|---|---|\n",
       "| 46 | 83 | 0.00 | 13 | 29.99 |\n",
       "| 48 | 53 | 0.00 |  6 | 30.03 |\n",
       "| 89 | 36 | 0.00 | 13 | 30.12 |\n",
       "| 48 | 36 | 0.00 | 14 | 29.80 |\n",
       "| 61 | 39 |   NA | 11 | 30.50 |\n",
       "| 79 | 41 | 0.00 |  6 | 29.92 |\n",
       "| 51 | 19 | 0.00 |  0 | 30.40 |\n",
       "| 65 | 24 | 0.00 | 11 | 30.35 |\n",
       "| 90 | 54 | 0.06 | 11 | 30.03 |\n",
       "| 94 | 73 |   NA |  5 | 29.91 |\n",
       "| 79 | 83 |   NA | 21 | 29.75 |\n",
       "| 37 | 44 | 0.00 |  7 | 30.25 |\n",
       "| 72 | 57 | 0.00 | 17 | 29.84 |\n",
       "| 47 | 78 | 0.00 |  8 | 30.16 |\n",
       "| 84 | 75 | 0.00 |  3 | 30.17 |\n",
       "| 57 | 37 | 0.00 | 11 | 30.01 |\n",
       "| 37 | 73 | 0.00 | 13 | 29.96 |\n",
       "| 75 | 58 |   NA |  9 | 30.28 |\n",
       "| 92 | 32 | 0.03 |  9 | 29.59 |\n",
       "| 79 | 42 |   NA |  3 | 30.10 |\n",
       "| 94 | 68 | 0.03 | 18 | 29.68 |\n",
       "| 71 | 71 |   NA |  6 | 29.94 |\n",
       "| 78 | 57 | 0.00 | 10 | 30.49 |\n",
       "| 55 | 73 | 0.00 | 15 | 29.84 |\n",
       "| 79 | 44 | 0.02 | 23 | 29.66 |\n",
       "| 83 | 55 |   NA |  3 | 30.11 |\n",
       "| 74 | 75 | 0.00 | 14 | 29.78 |\n",
       "| 36 | 47 |   NA | 13 | 29.85 |\n",
       "| 89 | 42 |   NA | 22 | 29.58 |\n",
       "| 42 | 24 | 0.00 | 22 | 29.79 |\n",
       "| ⋮ | ⋮ | ⋮ | ⋮ | ⋮ |\n",
       "|  71 | 51 |   NA | 13 | 29.77 |\n",
       "|  62 | 76 | 0.00 | 21 | 29.97 |\n",
       "|  94 | 54 |   NA |  8 | 29.57 |\n",
       "|  53 | 71 | 0.00 |  6 | 29.99 |\n",
       "|  90 | 75 | 0.00 | 10 | 29.95 |\n",
       "|  40 | 63 | 0.00 | 11 | 30.07 |\n",
       "|  40 | 46 | 0.00 | 14 | 30.30 |\n",
       "|  67 | 84 | 0.00 |  8 | 29.83 |\n",
       "|  60 | 75 | 0.00 |  9 | 29.98 |\n",
       "|  87 | 58 | 0.02 | 10 | 29.87 |\n",
       "|  54 | 34 | 0.00 |  7 | 30.63 |\n",
       "|  79 | 74 | 0.00 | 14 | 29.97 |\n",
       "|  79 | 67 |   NA |  5 | 30.17 |\n",
       "|  57 | 36 | 0.00 | 20 | 29.72 |\n",
       "|  71 | 67 | 0.00 |  7 | 29.88 |\n",
       "|  54 | 19 | 0.00 |  9 | 30.36 |\n",
       "|  34 | 54 | 0.00 | 13 | 29.97 |\n",
       "|  32 | 18 | 0.00 | 20 | 30.48 |\n",
       "|  78 | 26 |   NA | 22 | 29.91 |\n",
       "|  52 | 18 | 0.00 |  8 | 30.00 |\n",
       "| 100 | 40 | 0.03 |  9 | 30.00 |\n",
       "|  49 | 57 | 0.00 | 16 | 29.90 |\n",
       "|  66 | 67 | 0.00 | 16 | 30.26 |\n",
       "|  97 | 38 | 0.01 | 17 | 29.65 |\n",
       "|  64 | 72 | 0.00 |  9 | 30.21 |\n",
       "|  67 | 61 | 0.00 |  6 | 29.72 |\n",
       "|  NA | NA |   NA | NA |    NA |\n",
       "|  48 | 53 | 0.00 |  3 | 30.26 |\n",
       "|  75 | 32 | 0.00 |  7 | 29.69 |\n",
       "|  52 | 38 | 0.00 |  0 | 29.97 |\n",
       "\n"
      ],
      "text/plain": [
       "     HOURLYRelativeHumidity HOURLYDRYBULBTEMPF HOURLYPrecip HOURLYWindSpeed\n",
       "1    46                     83                 0.00         13             \n",
       "2    48                     53                 0.00          6             \n",
       "3    89                     36                 0.00         13             \n",
       "4    48                     36                 0.00         14             \n",
       "5    61                     39                   NA         11             \n",
       "6    79                     41                 0.00          6             \n",
       "7    51                     19                 0.00          0             \n",
       "8    65                     24                 0.00         11             \n",
       "9    90                     54                 0.06         11             \n",
       "10   94                     73                   NA          5             \n",
       "11   79                     83                   NA         21             \n",
       "12   37                     44                 0.00          7             \n",
       "13   72                     57                 0.00         17             \n",
       "14   47                     78                 0.00          8             \n",
       "15   84                     75                 0.00          3             \n",
       "16   57                     37                 0.00         11             \n",
       "17   37                     73                 0.00         13             \n",
       "18   75                     58                   NA          9             \n",
       "19   92                     32                 0.03          9             \n",
       "20   79                     42                   NA          3             \n",
       "21   94                     68                 0.03         18             \n",
       "22   71                     71                   NA          6             \n",
       "23   78                     57                 0.00         10             \n",
       "24   55                     73                 0.00         15             \n",
       "25   79                     44                 0.02         23             \n",
       "26   83                     55                   NA          3             \n",
       "27   74                     75                 0.00         14             \n",
       "28   36                     47                   NA         13             \n",
       "29   89                     42                   NA         22             \n",
       "30   42                     24                 0.00         22             \n",
       "⋮    ⋮                      ⋮                  ⋮            ⋮              \n",
       "5698  71                    51                   NA         13             \n",
       "5699  62                    76                 0.00         21             \n",
       "5700  94                    54                   NA          8             \n",
       "5701  53                    71                 0.00          6             \n",
       "5702  90                    75                 0.00         10             \n",
       "5703  40                    63                 0.00         11             \n",
       "5704  40                    46                 0.00         14             \n",
       "5705  67                    84                 0.00          8             \n",
       "5706  60                    75                 0.00          9             \n",
       "5707  87                    58                 0.02         10             \n",
       "5708  54                    34                 0.00          7             \n",
       "5709  79                    74                 0.00         14             \n",
       "5710  79                    67                   NA          5             \n",
       "5711  57                    36                 0.00         20             \n",
       "5712  71                    67                 0.00          7             \n",
       "5713  54                    19                 0.00          9             \n",
       "5714  34                    54                 0.00         13             \n",
       "5715  32                    18                 0.00         20             \n",
       "5716  78                    26                   NA         22             \n",
       "5717  52                    18                 0.00          8             \n",
       "5718 100                    40                 0.03          9             \n",
       "5719  49                    57                 0.00         16             \n",
       "5720  66                    67                 0.00         16             \n",
       "5721  97                    38                 0.01         17             \n",
       "5722  64                    72                 0.00          9             \n",
       "5723  67                    61                 0.00          6             \n",
       "5724  NA                    NA                   NA         NA             \n",
       "5725  48                    53                 0.00          3             \n",
       "5726  75                    32                 0.00          7             \n",
       "5727  52                    38                 0.00          0             \n",
       "     HOURLYStationPressure\n",
       "1    29.99                \n",
       "2    30.03                \n",
       "3    30.12                \n",
       "4    29.80                \n",
       "5    30.50                \n",
       "6    29.92                \n",
       "7    30.40                \n",
       "8    30.35                \n",
       "9    30.03                \n",
       "10   29.91                \n",
       "11   29.75                \n",
       "12   30.25                \n",
       "13   29.84                \n",
       "14   30.16                \n",
       "15   30.17                \n",
       "16   30.01                \n",
       "17   29.96                \n",
       "18   30.28                \n",
       "19   29.59                \n",
       "20   30.10                \n",
       "21   29.68                \n",
       "22   29.94                \n",
       "23   30.49                \n",
       "24   29.84                \n",
       "25   29.66                \n",
       "26   30.11                \n",
       "27   29.78                \n",
       "28   29.85                \n",
       "29   29.58                \n",
       "30   29.79                \n",
       "⋮    ⋮                    \n",
       "5698 29.77                \n",
       "5699 29.97                \n",
       "5700 29.57                \n",
       "5701 29.99                \n",
       "5702 29.95                \n",
       "5703 30.07                \n",
       "5704 30.30                \n",
       "5705 29.83                \n",
       "5706 29.98                \n",
       "5707 29.87                \n",
       "5708 30.63                \n",
       "5709 29.97                \n",
       "5710 30.17                \n",
       "5711 29.72                \n",
       "5712 29.88                \n",
       "5713 30.36                \n",
       "5714 29.97                \n",
       "5715 30.48                \n",
       "5716 29.91                \n",
       "5717 30.00                \n",
       "5718 30.00                \n",
       "5719 29.90                \n",
       "5720 30.26                \n",
       "5721 29.65                \n",
       "5722 30.21                \n",
       "5723 29.72                \n",
       "5724    NA                \n",
       "5725 30.26                \n",
       "5726 29.69                \n",
       "5727 29.97                "
      ]
     },
     "metadata": {},
     "output_type": "display_data"
    }
   ],
   "source": [
    "new_weather"
   ]
  },
  {
   "cell_type": "code",
   "execution_count": 13,
   "id": "77494a94-9a08-4fb9-bdbb-76c69c09f045",
   "metadata": {},
   "outputs": [
    {
     "data": {
      "text/html": [
       "<table>\n",
       "<caption>A tibble: 10 × 5</caption>\n",
       "<thead>\n",
       "\t<tr><th scope=col>HOURLYRelativeHumidity</th><th scope=col>HOURLYDRYBULBTEMPF</th><th scope=col>HOURLYPrecip</th><th scope=col>HOURLYWindSpeed</th><th scope=col>HOURLYStationPressure</th></tr>\n",
       "\t<tr><th scope=col>&lt;dbl&gt;</th><th scope=col>&lt;dbl&gt;</th><th scope=col>&lt;dbl&gt;</th><th scope=col>&lt;dbl&gt;</th><th scope=col>&lt;dbl&gt;</th></tr>\n",
       "</thead>\n",
       "<tbody>\n",
       "\t<tr><td>46</td><td>83</td><td>0.00</td><td>13</td><td>29.99</td></tr>\n",
       "\t<tr><td>48</td><td>53</td><td>0.00</td><td> 6</td><td>30.03</td></tr>\n",
       "\t<tr><td>89</td><td>36</td><td>0.00</td><td>13</td><td>30.12</td></tr>\n",
       "\t<tr><td>48</td><td>36</td><td>0.00</td><td>14</td><td>29.80</td></tr>\n",
       "\t<tr><td>61</td><td>39</td><td>  NA</td><td>11</td><td>30.50</td></tr>\n",
       "\t<tr><td>79</td><td>41</td><td>0.00</td><td> 6</td><td>29.92</td></tr>\n",
       "\t<tr><td>51</td><td>19</td><td>0.00</td><td> 0</td><td>30.40</td></tr>\n",
       "\t<tr><td>65</td><td>24</td><td>0.00</td><td>11</td><td>30.35</td></tr>\n",
       "\t<tr><td>90</td><td>54</td><td>0.06</td><td>11</td><td>30.03</td></tr>\n",
       "\t<tr><td>94</td><td>73</td><td>  NA</td><td> 5</td><td>29.91</td></tr>\n",
       "</tbody>\n",
       "</table>\n"
      ],
      "text/latex": [
       "A tibble: 10 × 5\n",
       "\\begin{tabular}{lllll}\n",
       " HOURLYRelativeHumidity & HOURLYDRYBULBTEMPF & HOURLYPrecip & HOURLYWindSpeed & HOURLYStationPressure\\\\\n",
       " <dbl> & <dbl> & <dbl> & <dbl> & <dbl>\\\\\n",
       "\\hline\n",
       "\t 46 & 83 & 0.00 & 13 & 29.99\\\\\n",
       "\t 48 & 53 & 0.00 &  6 & 30.03\\\\\n",
       "\t 89 & 36 & 0.00 & 13 & 30.12\\\\\n",
       "\t 48 & 36 & 0.00 & 14 & 29.80\\\\\n",
       "\t 61 & 39 &   NA & 11 & 30.50\\\\\n",
       "\t 79 & 41 & 0.00 &  6 & 29.92\\\\\n",
       "\t 51 & 19 & 0.00 &  0 & 30.40\\\\\n",
       "\t 65 & 24 & 0.00 & 11 & 30.35\\\\\n",
       "\t 90 & 54 & 0.06 & 11 & 30.03\\\\\n",
       "\t 94 & 73 &   NA &  5 & 29.91\\\\\n",
       "\\end{tabular}\n"
      ],
      "text/markdown": [
       "\n",
       "A tibble: 10 × 5\n",
       "\n",
       "| HOURLYRelativeHumidity &lt;dbl&gt; | HOURLYDRYBULBTEMPF &lt;dbl&gt; | HOURLYPrecip &lt;dbl&gt; | HOURLYWindSpeed &lt;dbl&gt; | HOURLYStationPressure &lt;dbl&gt; |\n",
       "|---|---|---|---|---|\n",
       "| 46 | 83 | 0.00 | 13 | 29.99 |\n",
       "| 48 | 53 | 0.00 |  6 | 30.03 |\n",
       "| 89 | 36 | 0.00 | 13 | 30.12 |\n",
       "| 48 | 36 | 0.00 | 14 | 29.80 |\n",
       "| 61 | 39 |   NA | 11 | 30.50 |\n",
       "| 79 | 41 | 0.00 |  6 | 29.92 |\n",
       "| 51 | 19 | 0.00 |  0 | 30.40 |\n",
       "| 65 | 24 | 0.00 | 11 | 30.35 |\n",
       "| 90 | 54 | 0.06 | 11 | 30.03 |\n",
       "| 94 | 73 |   NA |  5 | 29.91 |\n",
       "\n"
      ],
      "text/plain": [
       "   HOURLYRelativeHumidity HOURLYDRYBULBTEMPF HOURLYPrecip HOURLYWindSpeed\n",
       "1  46                     83                 0.00         13             \n",
       "2  48                     53                 0.00          6             \n",
       "3  89                     36                 0.00         13             \n",
       "4  48                     36                 0.00         14             \n",
       "5  61                     39                   NA         11             \n",
       "6  79                     41                 0.00          6             \n",
       "7  51                     19                 0.00          0             \n",
       "8  65                     24                 0.00         11             \n",
       "9  90                     54                 0.06         11             \n",
       "10 94                     73                   NA          5             \n",
       "   HOURLYStationPressure\n",
       "1  29.99                \n",
       "2  30.03                \n",
       "3  30.12                \n",
       "4  29.80                \n",
       "5  30.50                \n",
       "6  29.92                \n",
       "7  30.40                \n",
       "8  30.35                \n",
       "9  30.03                \n",
       "10 29.91                "
      ]
     },
     "metadata": {},
     "output_type": "display_data"
    }
   ],
   "source": [
    "head(new_weather,10)"
   ]
  },
  {
   "cell_type": "code",
   "execution_count": 14,
   "id": "845972ba-f591-4177-9aca-ccdc7484f431",
   "metadata": {},
   "outputs": [
    {
     "data": {
      "text/html": [
       "<style>\n",
       ".list-inline {list-style: none; margin:0; padding: 0}\n",
       ".list-inline>li {display: inline-block}\n",
       ".list-inline>li:not(:last-child)::after {content: \"\\00b7\"; padding: 0 .5ex}\n",
       "</style>\n",
       "<ol class=list-inline><li>0</li><li>&lt;NA&gt;</li><li>0.06</li><li>0.03</li><li>0.02</li><li>0.08</li><li>0.01</li><li>0.07</li><li>0.16</li><li>0.09</li><li>0.22</li><li>0.24</li><li>0.18</li><li>0.05</li><li>0.04</li><li>0.11</li><li>0.14</li><li>0.25</li><li>0.1</li><li>0.58</li><li>0.12</li><li>0.13</li><li>0.46</li><li>1.07</li><li>1.19</li><li>0.34</li><li>0.2</li><li>0.36</li><li>0.42</li><li>0.17</li><li>0.27</li><li>0.35</li><li>0.31</li><li>0.33</li><li>0.23</li><li>0.26</li><li>0.28</li><li>0.75</li><li>0.19</li><li>0.54</li><li>0.59</li><li>0.21</li></ol>\n"
      ],
      "text/latex": [
       "\\begin{enumerate*}\n",
       "\\item 0\n",
       "\\item <NA>\n",
       "\\item 0.06\n",
       "\\item 0.03\n",
       "\\item 0.02\n",
       "\\item 0.08\n",
       "\\item 0.01\n",
       "\\item 0.07\n",
       "\\item 0.16\n",
       "\\item 0.09\n",
       "\\item 0.22\n",
       "\\item 0.24\n",
       "\\item 0.18\n",
       "\\item 0.05\n",
       "\\item 0.04\n",
       "\\item 0.11\n",
       "\\item 0.14\n",
       "\\item 0.25\n",
       "\\item 0.1\n",
       "\\item 0.58\n",
       "\\item 0.12\n",
       "\\item 0.13\n",
       "\\item 0.46\n",
       "\\item 1.07\n",
       "\\item 1.19\n",
       "\\item 0.34\n",
       "\\item 0.2\n",
       "\\item 0.36\n",
       "\\item 0.42\n",
       "\\item 0.17\n",
       "\\item 0.27\n",
       "\\item 0.35\n",
       "\\item 0.31\n",
       "\\item 0.33\n",
       "\\item 0.23\n",
       "\\item 0.26\n",
       "\\item 0.28\n",
       "\\item 0.75\n",
       "\\item 0.19\n",
       "\\item 0.54\n",
       "\\item 0.59\n",
       "\\item 0.21\n",
       "\\end{enumerate*}\n"
      ],
      "text/markdown": [
       "1. 0\n",
       "2. &lt;NA&gt;\n",
       "3. 0.06\n",
       "4. 0.03\n",
       "5. 0.02\n",
       "6. 0.08\n",
       "7. 0.01\n",
       "8. 0.07\n",
       "9. 0.16\n",
       "10. 0.09\n",
       "11. 0.22\n",
       "12. 0.24\n",
       "13. 0.18\n",
       "14. 0.05\n",
       "15. 0.04\n",
       "16. 0.11\n",
       "17. 0.14\n",
       "18. 0.25\n",
       "19. 0.1\n",
       "20. 0.58\n",
       "21. 0.12\n",
       "22. 0.13\n",
       "23. 0.46\n",
       "24. 1.07\n",
       "25. 1.19\n",
       "26. 0.34\n",
       "27. 0.2\n",
       "28. 0.36\n",
       "29. 0.42\n",
       "30. 0.17\n",
       "31. 0.27\n",
       "32. 0.35\n",
       "33. 0.31\n",
       "34. 0.33\n",
       "35. 0.23\n",
       "36. 0.26\n",
       "37. 0.28\n",
       "38. 0.75\n",
       "39. 0.19\n",
       "40. 0.54\n",
       "41. 0.59\n",
       "42. 0.21\n",
       "\n",
       "\n"
      ],
      "text/plain": [
       " [1] 0.00   NA 0.06 0.03 0.02 0.08 0.01 0.07 0.16 0.09 0.22 0.24 0.18 0.05 0.04\n",
       "[16] 0.11 0.14 0.25 0.10 0.58 0.12 0.13 0.46 1.07 1.19 0.34 0.20 0.36 0.42 0.17\n",
       "[31] 0.27 0.35 0.31 0.33 0.23 0.26 0.28 0.75 0.19 0.54 0.59 0.21"
      ]
     },
     "metadata": {},
     "output_type": "display_data"
    }
   ],
   "source": [
    "unique(new_weather$HOURLYPrecip)"
   ]
  },
  {
   "cell_type": "code",
   "execution_count": 20,
   "id": "7a6959a6-a14c-4ddc-bfa8-d544722d1ce2",
   "metadata": {},
   "outputs": [],
   "source": [
    "new_weather1<-new_weather%>%replace_na(list(HOURLYPrecip=0.0))"
   ]
  },
  {
   "cell_type": "code",
   "execution_count": 21,
   "id": "0825370f-820c-4f3c-ae4f-0ee35a75b0bd",
   "metadata": {},
   "outputs": [
    {
     "data": {
      "text/html": [
       "<table>\n",
       "<caption>A tibble: 5727 × 5</caption>\n",
       "<thead>\n",
       "\t<tr><th scope=col>HOURLYRelativeHumidity</th><th scope=col>HOURLYDRYBULBTEMPF</th><th scope=col>HOURLYPrecip</th><th scope=col>HOURLYWindSpeed</th><th scope=col>HOURLYStationPressure</th></tr>\n",
       "\t<tr><th scope=col>&lt;dbl&gt;</th><th scope=col>&lt;dbl&gt;</th><th scope=col>&lt;dbl&gt;</th><th scope=col>&lt;dbl&gt;</th><th scope=col>&lt;dbl&gt;</th></tr>\n",
       "</thead>\n",
       "<tbody>\n",
       "\t<tr><td>46</td><td>83</td><td>0.00</td><td>13</td><td>29.99</td></tr>\n",
       "\t<tr><td>48</td><td>53</td><td>0.00</td><td> 6</td><td>30.03</td></tr>\n",
       "\t<tr><td>89</td><td>36</td><td>0.00</td><td>13</td><td>30.12</td></tr>\n",
       "\t<tr><td>48</td><td>36</td><td>0.00</td><td>14</td><td>29.80</td></tr>\n",
       "\t<tr><td>61</td><td>39</td><td>0.00</td><td>11</td><td>30.50</td></tr>\n",
       "\t<tr><td>79</td><td>41</td><td>0.00</td><td> 6</td><td>29.92</td></tr>\n",
       "\t<tr><td>51</td><td>19</td><td>0.00</td><td> 0</td><td>30.40</td></tr>\n",
       "\t<tr><td>65</td><td>24</td><td>0.00</td><td>11</td><td>30.35</td></tr>\n",
       "\t<tr><td>90</td><td>54</td><td>0.06</td><td>11</td><td>30.03</td></tr>\n",
       "\t<tr><td>94</td><td>73</td><td>0.00</td><td> 5</td><td>29.91</td></tr>\n",
       "\t<tr><td>79</td><td>83</td><td>0.00</td><td>21</td><td>29.75</td></tr>\n",
       "\t<tr><td>37</td><td>44</td><td>0.00</td><td> 7</td><td>30.25</td></tr>\n",
       "\t<tr><td>72</td><td>57</td><td>0.00</td><td>17</td><td>29.84</td></tr>\n",
       "\t<tr><td>47</td><td>78</td><td>0.00</td><td> 8</td><td>30.16</td></tr>\n",
       "\t<tr><td>84</td><td>75</td><td>0.00</td><td> 3</td><td>30.17</td></tr>\n",
       "\t<tr><td>57</td><td>37</td><td>0.00</td><td>11</td><td>30.01</td></tr>\n",
       "\t<tr><td>37</td><td>73</td><td>0.00</td><td>13</td><td>29.96</td></tr>\n",
       "\t<tr><td>75</td><td>58</td><td>0.00</td><td> 9</td><td>30.28</td></tr>\n",
       "\t<tr><td>92</td><td>32</td><td>0.03</td><td> 9</td><td>29.59</td></tr>\n",
       "\t<tr><td>79</td><td>42</td><td>0.00</td><td> 3</td><td>30.10</td></tr>\n",
       "\t<tr><td>94</td><td>68</td><td>0.03</td><td>18</td><td>29.68</td></tr>\n",
       "\t<tr><td>71</td><td>71</td><td>0.00</td><td> 6</td><td>29.94</td></tr>\n",
       "\t<tr><td>78</td><td>57</td><td>0.00</td><td>10</td><td>30.49</td></tr>\n",
       "\t<tr><td>55</td><td>73</td><td>0.00</td><td>15</td><td>29.84</td></tr>\n",
       "\t<tr><td>79</td><td>44</td><td>0.02</td><td>23</td><td>29.66</td></tr>\n",
       "\t<tr><td>83</td><td>55</td><td>0.00</td><td> 3</td><td>30.11</td></tr>\n",
       "\t<tr><td>74</td><td>75</td><td>0.00</td><td>14</td><td>29.78</td></tr>\n",
       "\t<tr><td>36</td><td>47</td><td>0.00</td><td>13</td><td>29.85</td></tr>\n",
       "\t<tr><td>89</td><td>42</td><td>0.00</td><td>22</td><td>29.58</td></tr>\n",
       "\t<tr><td>42</td><td>24</td><td>0.00</td><td>22</td><td>29.79</td></tr>\n",
       "\t<tr><td>⋮</td><td>⋮</td><td>⋮</td><td>⋮</td><td>⋮</td></tr>\n",
       "\t<tr><td> 71</td><td>51</td><td>0.00</td><td>13</td><td>29.77</td></tr>\n",
       "\t<tr><td> 62</td><td>76</td><td>0.00</td><td>21</td><td>29.97</td></tr>\n",
       "\t<tr><td> 94</td><td>54</td><td>0.00</td><td> 8</td><td>29.57</td></tr>\n",
       "\t<tr><td> 53</td><td>71</td><td>0.00</td><td> 6</td><td>29.99</td></tr>\n",
       "\t<tr><td> 90</td><td>75</td><td>0.00</td><td>10</td><td>29.95</td></tr>\n",
       "\t<tr><td> 40</td><td>63</td><td>0.00</td><td>11</td><td>30.07</td></tr>\n",
       "\t<tr><td> 40</td><td>46</td><td>0.00</td><td>14</td><td>30.30</td></tr>\n",
       "\t<tr><td> 67</td><td>84</td><td>0.00</td><td> 8</td><td>29.83</td></tr>\n",
       "\t<tr><td> 60</td><td>75</td><td>0.00</td><td> 9</td><td>29.98</td></tr>\n",
       "\t<tr><td> 87</td><td>58</td><td>0.02</td><td>10</td><td>29.87</td></tr>\n",
       "\t<tr><td> 54</td><td>34</td><td>0.00</td><td> 7</td><td>30.63</td></tr>\n",
       "\t<tr><td> 79</td><td>74</td><td>0.00</td><td>14</td><td>29.97</td></tr>\n",
       "\t<tr><td> 79</td><td>67</td><td>0.00</td><td> 5</td><td>30.17</td></tr>\n",
       "\t<tr><td> 57</td><td>36</td><td>0.00</td><td>20</td><td>29.72</td></tr>\n",
       "\t<tr><td> 71</td><td>67</td><td>0.00</td><td> 7</td><td>29.88</td></tr>\n",
       "\t<tr><td> 54</td><td>19</td><td>0.00</td><td> 9</td><td>30.36</td></tr>\n",
       "\t<tr><td> 34</td><td>54</td><td>0.00</td><td>13</td><td>29.97</td></tr>\n",
       "\t<tr><td> 32</td><td>18</td><td>0.00</td><td>20</td><td>30.48</td></tr>\n",
       "\t<tr><td> 78</td><td>26</td><td>0.00</td><td>22</td><td>29.91</td></tr>\n",
       "\t<tr><td> 52</td><td>18</td><td>0.00</td><td> 8</td><td>30.00</td></tr>\n",
       "\t<tr><td>100</td><td>40</td><td>0.03</td><td> 9</td><td>30.00</td></tr>\n",
       "\t<tr><td> 49</td><td>57</td><td>0.00</td><td>16</td><td>29.90</td></tr>\n",
       "\t<tr><td> 66</td><td>67</td><td>0.00</td><td>16</td><td>30.26</td></tr>\n",
       "\t<tr><td> 97</td><td>38</td><td>0.01</td><td>17</td><td>29.65</td></tr>\n",
       "\t<tr><td> 64</td><td>72</td><td>0.00</td><td> 9</td><td>30.21</td></tr>\n",
       "\t<tr><td> 67</td><td>61</td><td>0.00</td><td> 6</td><td>29.72</td></tr>\n",
       "\t<tr><td> NA</td><td>NA</td><td>0.00</td><td>NA</td><td>   NA</td></tr>\n",
       "\t<tr><td> 48</td><td>53</td><td>0.00</td><td> 3</td><td>30.26</td></tr>\n",
       "\t<tr><td> 75</td><td>32</td><td>0.00</td><td> 7</td><td>29.69</td></tr>\n",
       "\t<tr><td> 52</td><td>38</td><td>0.00</td><td> 0</td><td>29.97</td></tr>\n",
       "</tbody>\n",
       "</table>\n"
      ],
      "text/latex": [
       "A tibble: 5727 × 5\n",
       "\\begin{tabular}{lllll}\n",
       " HOURLYRelativeHumidity & HOURLYDRYBULBTEMPF & HOURLYPrecip & HOURLYWindSpeed & HOURLYStationPressure\\\\\n",
       " <dbl> & <dbl> & <dbl> & <dbl> & <dbl>\\\\\n",
       "\\hline\n",
       "\t 46 & 83 & 0.00 & 13 & 29.99\\\\\n",
       "\t 48 & 53 & 0.00 &  6 & 30.03\\\\\n",
       "\t 89 & 36 & 0.00 & 13 & 30.12\\\\\n",
       "\t 48 & 36 & 0.00 & 14 & 29.80\\\\\n",
       "\t 61 & 39 & 0.00 & 11 & 30.50\\\\\n",
       "\t 79 & 41 & 0.00 &  6 & 29.92\\\\\n",
       "\t 51 & 19 & 0.00 &  0 & 30.40\\\\\n",
       "\t 65 & 24 & 0.00 & 11 & 30.35\\\\\n",
       "\t 90 & 54 & 0.06 & 11 & 30.03\\\\\n",
       "\t 94 & 73 & 0.00 &  5 & 29.91\\\\\n",
       "\t 79 & 83 & 0.00 & 21 & 29.75\\\\\n",
       "\t 37 & 44 & 0.00 &  7 & 30.25\\\\\n",
       "\t 72 & 57 & 0.00 & 17 & 29.84\\\\\n",
       "\t 47 & 78 & 0.00 &  8 & 30.16\\\\\n",
       "\t 84 & 75 & 0.00 &  3 & 30.17\\\\\n",
       "\t 57 & 37 & 0.00 & 11 & 30.01\\\\\n",
       "\t 37 & 73 & 0.00 & 13 & 29.96\\\\\n",
       "\t 75 & 58 & 0.00 &  9 & 30.28\\\\\n",
       "\t 92 & 32 & 0.03 &  9 & 29.59\\\\\n",
       "\t 79 & 42 & 0.00 &  3 & 30.10\\\\\n",
       "\t 94 & 68 & 0.03 & 18 & 29.68\\\\\n",
       "\t 71 & 71 & 0.00 &  6 & 29.94\\\\\n",
       "\t 78 & 57 & 0.00 & 10 & 30.49\\\\\n",
       "\t 55 & 73 & 0.00 & 15 & 29.84\\\\\n",
       "\t 79 & 44 & 0.02 & 23 & 29.66\\\\\n",
       "\t 83 & 55 & 0.00 &  3 & 30.11\\\\\n",
       "\t 74 & 75 & 0.00 & 14 & 29.78\\\\\n",
       "\t 36 & 47 & 0.00 & 13 & 29.85\\\\\n",
       "\t 89 & 42 & 0.00 & 22 & 29.58\\\\\n",
       "\t 42 & 24 & 0.00 & 22 & 29.79\\\\\n",
       "\t ⋮ & ⋮ & ⋮ & ⋮ & ⋮\\\\\n",
       "\t  71 & 51 & 0.00 & 13 & 29.77\\\\\n",
       "\t  62 & 76 & 0.00 & 21 & 29.97\\\\\n",
       "\t  94 & 54 & 0.00 &  8 & 29.57\\\\\n",
       "\t  53 & 71 & 0.00 &  6 & 29.99\\\\\n",
       "\t  90 & 75 & 0.00 & 10 & 29.95\\\\\n",
       "\t  40 & 63 & 0.00 & 11 & 30.07\\\\\n",
       "\t  40 & 46 & 0.00 & 14 & 30.30\\\\\n",
       "\t  67 & 84 & 0.00 &  8 & 29.83\\\\\n",
       "\t  60 & 75 & 0.00 &  9 & 29.98\\\\\n",
       "\t  87 & 58 & 0.02 & 10 & 29.87\\\\\n",
       "\t  54 & 34 & 0.00 &  7 & 30.63\\\\\n",
       "\t  79 & 74 & 0.00 & 14 & 29.97\\\\\n",
       "\t  79 & 67 & 0.00 &  5 & 30.17\\\\\n",
       "\t  57 & 36 & 0.00 & 20 & 29.72\\\\\n",
       "\t  71 & 67 & 0.00 &  7 & 29.88\\\\\n",
       "\t  54 & 19 & 0.00 &  9 & 30.36\\\\\n",
       "\t  34 & 54 & 0.00 & 13 & 29.97\\\\\n",
       "\t  32 & 18 & 0.00 & 20 & 30.48\\\\\n",
       "\t  78 & 26 & 0.00 & 22 & 29.91\\\\\n",
       "\t  52 & 18 & 0.00 &  8 & 30.00\\\\\n",
       "\t 100 & 40 & 0.03 &  9 & 30.00\\\\\n",
       "\t  49 & 57 & 0.00 & 16 & 29.90\\\\\n",
       "\t  66 & 67 & 0.00 & 16 & 30.26\\\\\n",
       "\t  97 & 38 & 0.01 & 17 & 29.65\\\\\n",
       "\t  64 & 72 & 0.00 &  9 & 30.21\\\\\n",
       "\t  67 & 61 & 0.00 &  6 & 29.72\\\\\n",
       "\t  NA & NA & 0.00 & NA &    NA\\\\\n",
       "\t  48 & 53 & 0.00 &  3 & 30.26\\\\\n",
       "\t  75 & 32 & 0.00 &  7 & 29.69\\\\\n",
       "\t  52 & 38 & 0.00 &  0 & 29.97\\\\\n",
       "\\end{tabular}\n"
      ],
      "text/markdown": [
       "\n",
       "A tibble: 5727 × 5\n",
       "\n",
       "| HOURLYRelativeHumidity &lt;dbl&gt; | HOURLYDRYBULBTEMPF &lt;dbl&gt; | HOURLYPrecip &lt;dbl&gt; | HOURLYWindSpeed &lt;dbl&gt; | HOURLYStationPressure &lt;dbl&gt; |\n",
       "|---|---|---|---|---|\n",
       "| 46 | 83 | 0.00 | 13 | 29.99 |\n",
       "| 48 | 53 | 0.00 |  6 | 30.03 |\n",
       "| 89 | 36 | 0.00 | 13 | 30.12 |\n",
       "| 48 | 36 | 0.00 | 14 | 29.80 |\n",
       "| 61 | 39 | 0.00 | 11 | 30.50 |\n",
       "| 79 | 41 | 0.00 |  6 | 29.92 |\n",
       "| 51 | 19 | 0.00 |  0 | 30.40 |\n",
       "| 65 | 24 | 0.00 | 11 | 30.35 |\n",
       "| 90 | 54 | 0.06 | 11 | 30.03 |\n",
       "| 94 | 73 | 0.00 |  5 | 29.91 |\n",
       "| 79 | 83 | 0.00 | 21 | 29.75 |\n",
       "| 37 | 44 | 0.00 |  7 | 30.25 |\n",
       "| 72 | 57 | 0.00 | 17 | 29.84 |\n",
       "| 47 | 78 | 0.00 |  8 | 30.16 |\n",
       "| 84 | 75 | 0.00 |  3 | 30.17 |\n",
       "| 57 | 37 | 0.00 | 11 | 30.01 |\n",
       "| 37 | 73 | 0.00 | 13 | 29.96 |\n",
       "| 75 | 58 | 0.00 |  9 | 30.28 |\n",
       "| 92 | 32 | 0.03 |  9 | 29.59 |\n",
       "| 79 | 42 | 0.00 |  3 | 30.10 |\n",
       "| 94 | 68 | 0.03 | 18 | 29.68 |\n",
       "| 71 | 71 | 0.00 |  6 | 29.94 |\n",
       "| 78 | 57 | 0.00 | 10 | 30.49 |\n",
       "| 55 | 73 | 0.00 | 15 | 29.84 |\n",
       "| 79 | 44 | 0.02 | 23 | 29.66 |\n",
       "| 83 | 55 | 0.00 |  3 | 30.11 |\n",
       "| 74 | 75 | 0.00 | 14 | 29.78 |\n",
       "| 36 | 47 | 0.00 | 13 | 29.85 |\n",
       "| 89 | 42 | 0.00 | 22 | 29.58 |\n",
       "| 42 | 24 | 0.00 | 22 | 29.79 |\n",
       "| ⋮ | ⋮ | ⋮ | ⋮ | ⋮ |\n",
       "|  71 | 51 | 0.00 | 13 | 29.77 |\n",
       "|  62 | 76 | 0.00 | 21 | 29.97 |\n",
       "|  94 | 54 | 0.00 |  8 | 29.57 |\n",
       "|  53 | 71 | 0.00 |  6 | 29.99 |\n",
       "|  90 | 75 | 0.00 | 10 | 29.95 |\n",
       "|  40 | 63 | 0.00 | 11 | 30.07 |\n",
       "|  40 | 46 | 0.00 | 14 | 30.30 |\n",
       "|  67 | 84 | 0.00 |  8 | 29.83 |\n",
       "|  60 | 75 | 0.00 |  9 | 29.98 |\n",
       "|  87 | 58 | 0.02 | 10 | 29.87 |\n",
       "|  54 | 34 | 0.00 |  7 | 30.63 |\n",
       "|  79 | 74 | 0.00 | 14 | 29.97 |\n",
       "|  79 | 67 | 0.00 |  5 | 30.17 |\n",
       "|  57 | 36 | 0.00 | 20 | 29.72 |\n",
       "|  71 | 67 | 0.00 |  7 | 29.88 |\n",
       "|  54 | 19 | 0.00 |  9 | 30.36 |\n",
       "|  34 | 54 | 0.00 | 13 | 29.97 |\n",
       "|  32 | 18 | 0.00 | 20 | 30.48 |\n",
       "|  78 | 26 | 0.00 | 22 | 29.91 |\n",
       "|  52 | 18 | 0.00 |  8 | 30.00 |\n",
       "| 100 | 40 | 0.03 |  9 | 30.00 |\n",
       "|  49 | 57 | 0.00 | 16 | 29.90 |\n",
       "|  66 | 67 | 0.00 | 16 | 30.26 |\n",
       "|  97 | 38 | 0.01 | 17 | 29.65 |\n",
       "|  64 | 72 | 0.00 |  9 | 30.21 |\n",
       "|  67 | 61 | 0.00 |  6 | 29.72 |\n",
       "|  NA | NA | 0.00 | NA |    NA |\n",
       "|  48 | 53 | 0.00 |  3 | 30.26 |\n",
       "|  75 | 32 | 0.00 |  7 | 29.69 |\n",
       "|  52 | 38 | 0.00 |  0 | 29.97 |\n",
       "\n"
      ],
      "text/plain": [
       "     HOURLYRelativeHumidity HOURLYDRYBULBTEMPF HOURLYPrecip HOURLYWindSpeed\n",
       "1    46                     83                 0.00         13             \n",
       "2    48                     53                 0.00          6             \n",
       "3    89                     36                 0.00         13             \n",
       "4    48                     36                 0.00         14             \n",
       "5    61                     39                 0.00         11             \n",
       "6    79                     41                 0.00          6             \n",
       "7    51                     19                 0.00          0             \n",
       "8    65                     24                 0.00         11             \n",
       "9    90                     54                 0.06         11             \n",
       "10   94                     73                 0.00          5             \n",
       "11   79                     83                 0.00         21             \n",
       "12   37                     44                 0.00          7             \n",
       "13   72                     57                 0.00         17             \n",
       "14   47                     78                 0.00          8             \n",
       "15   84                     75                 0.00          3             \n",
       "16   57                     37                 0.00         11             \n",
       "17   37                     73                 0.00         13             \n",
       "18   75                     58                 0.00          9             \n",
       "19   92                     32                 0.03          9             \n",
       "20   79                     42                 0.00          3             \n",
       "21   94                     68                 0.03         18             \n",
       "22   71                     71                 0.00          6             \n",
       "23   78                     57                 0.00         10             \n",
       "24   55                     73                 0.00         15             \n",
       "25   79                     44                 0.02         23             \n",
       "26   83                     55                 0.00          3             \n",
       "27   74                     75                 0.00         14             \n",
       "28   36                     47                 0.00         13             \n",
       "29   89                     42                 0.00         22             \n",
       "30   42                     24                 0.00         22             \n",
       "⋮    ⋮                      ⋮                  ⋮            ⋮              \n",
       "5698  71                    51                 0.00         13             \n",
       "5699  62                    76                 0.00         21             \n",
       "5700  94                    54                 0.00          8             \n",
       "5701  53                    71                 0.00          6             \n",
       "5702  90                    75                 0.00         10             \n",
       "5703  40                    63                 0.00         11             \n",
       "5704  40                    46                 0.00         14             \n",
       "5705  67                    84                 0.00          8             \n",
       "5706  60                    75                 0.00          9             \n",
       "5707  87                    58                 0.02         10             \n",
       "5708  54                    34                 0.00          7             \n",
       "5709  79                    74                 0.00         14             \n",
       "5710  79                    67                 0.00          5             \n",
       "5711  57                    36                 0.00         20             \n",
       "5712  71                    67                 0.00          7             \n",
       "5713  54                    19                 0.00          9             \n",
       "5714  34                    54                 0.00         13             \n",
       "5715  32                    18                 0.00         20             \n",
       "5716  78                    26                 0.00         22             \n",
       "5717  52                    18                 0.00          8             \n",
       "5718 100                    40                 0.03          9             \n",
       "5719  49                    57                 0.00         16             \n",
       "5720  66                    67                 0.00         16             \n",
       "5721  97                    38                 0.01         17             \n",
       "5722  64                    72                 0.00          9             \n",
       "5723  67                    61                 0.00          6             \n",
       "5724  NA                    NA                 0.00         NA             \n",
       "5725  48                    53                 0.00          3             \n",
       "5726  75                    32                 0.00          7             \n",
       "5727  52                    38                 0.00          0             \n",
       "     HOURLYStationPressure\n",
       "1    29.99                \n",
       "2    30.03                \n",
       "3    30.12                \n",
       "4    29.80                \n",
       "5    30.50                \n",
       "6    29.92                \n",
       "7    30.40                \n",
       "8    30.35                \n",
       "9    30.03                \n",
       "10   29.91                \n",
       "11   29.75                \n",
       "12   30.25                \n",
       "13   29.84                \n",
       "14   30.16                \n",
       "15   30.17                \n",
       "16   30.01                \n",
       "17   29.96                \n",
       "18   30.28                \n",
       "19   29.59                \n",
       "20   30.10                \n",
       "21   29.68                \n",
       "22   29.94                \n",
       "23   30.49                \n",
       "24   29.84                \n",
       "25   29.66                \n",
       "26   30.11                \n",
       "27   29.78                \n",
       "28   29.85                \n",
       "29   29.58                \n",
       "30   29.79                \n",
       "⋮    ⋮                    \n",
       "5698 29.77                \n",
       "5699 29.97                \n",
       "5700 29.57                \n",
       "5701 29.99                \n",
       "5702 29.95                \n",
       "5703 30.07                \n",
       "5704 30.30                \n",
       "5705 29.83                \n",
       "5706 29.98                \n",
       "5707 29.87                \n",
       "5708 30.63                \n",
       "5709 29.97                \n",
       "5710 30.17                \n",
       "5711 29.72                \n",
       "5712 29.88                \n",
       "5713 30.36                \n",
       "5714 29.97                \n",
       "5715 30.48                \n",
       "5716 29.91                \n",
       "5717 30.00                \n",
       "5718 30.00                \n",
       "5719 29.90                \n",
       "5720 30.26                \n",
       "5721 29.65                \n",
       "5722 30.21                \n",
       "5723 29.72                \n",
       "5724    NA                \n",
       "5725 30.26                \n",
       "5726 29.69                \n",
       "5727 29.97                "
      ]
     },
     "metadata": {},
     "output_type": "display_data"
    }
   ],
   "source": [
    "new_weather1"
   ]
  },
  {
   "cell_type": "code",
   "execution_count": 28,
   "id": "ba34f2be-62fb-4384-a028-a2523de9447e",
   "metadata": {},
   "outputs": [
    {
     "name": "stderr",
     "output_type": "stream",
     "text": [
      "Updating HTML index of packages in '.Library'\n",
      "Making 'packages.html' ... done\n"
     ]
    }
   ],
   "source": [
    "install.packages(\"dplyr\")"
   ]
  },
  {
   "cell_type": "code",
   "execution_count": 30,
   "id": "ff707c4a-112f-40e2-84f5-1e1cb1a3348f",
   "metadata": {},
   "outputs": [],
   "source": [
    "library(dplyr)"
   ]
  },
  {
   "cell_type": "code",
   "execution_count": 49,
   "id": "ecb15d29-c5e4-4ffd-b72d-d48b3a28f1ed",
   "metadata": {},
   "outputs": [
    {
     "data": {
      "text/html": [
       "<table>\n",
       "<caption>A tibble: 5727 × 5</caption>\n",
       "<thead>\n",
       "\t<tr><th scope=col>relative_humidity</th><th scope=col>dry_bulb_temp_f</th><th scope=col>precip</th><th scope=col>wind_speed</th><th scope=col>station_pressure</th></tr>\n",
       "\t<tr><th scope=col>&lt;dbl&gt;</th><th scope=col>&lt;dbl&gt;</th><th scope=col>&lt;dbl&gt;</th><th scope=col>&lt;dbl&gt;</th><th scope=col>&lt;dbl&gt;</th></tr>\n",
       "</thead>\n",
       "<tbody>\n",
       "\t<tr><td>46</td><td>83</td><td>0.00</td><td>13</td><td>29.99</td></tr>\n",
       "\t<tr><td>48</td><td>53</td><td>0.00</td><td> 6</td><td>30.03</td></tr>\n",
       "\t<tr><td>89</td><td>36</td><td>0.00</td><td>13</td><td>30.12</td></tr>\n",
       "\t<tr><td>48</td><td>36</td><td>0.00</td><td>14</td><td>29.80</td></tr>\n",
       "\t<tr><td>61</td><td>39</td><td>0.00</td><td>11</td><td>30.50</td></tr>\n",
       "\t<tr><td>79</td><td>41</td><td>0.00</td><td> 6</td><td>29.92</td></tr>\n",
       "\t<tr><td>51</td><td>19</td><td>0.00</td><td> 0</td><td>30.40</td></tr>\n",
       "\t<tr><td>65</td><td>24</td><td>0.00</td><td>11</td><td>30.35</td></tr>\n",
       "\t<tr><td>90</td><td>54</td><td>0.06</td><td>11</td><td>30.03</td></tr>\n",
       "\t<tr><td>94</td><td>73</td><td>0.00</td><td> 5</td><td>29.91</td></tr>\n",
       "\t<tr><td>79</td><td>83</td><td>0.00</td><td>21</td><td>29.75</td></tr>\n",
       "\t<tr><td>37</td><td>44</td><td>0.00</td><td> 7</td><td>30.25</td></tr>\n",
       "\t<tr><td>72</td><td>57</td><td>0.00</td><td>17</td><td>29.84</td></tr>\n",
       "\t<tr><td>47</td><td>78</td><td>0.00</td><td> 8</td><td>30.16</td></tr>\n",
       "\t<tr><td>84</td><td>75</td><td>0.00</td><td> 3</td><td>30.17</td></tr>\n",
       "\t<tr><td>57</td><td>37</td><td>0.00</td><td>11</td><td>30.01</td></tr>\n",
       "\t<tr><td>37</td><td>73</td><td>0.00</td><td>13</td><td>29.96</td></tr>\n",
       "\t<tr><td>75</td><td>58</td><td>0.00</td><td> 9</td><td>30.28</td></tr>\n",
       "\t<tr><td>92</td><td>32</td><td>0.03</td><td> 9</td><td>29.59</td></tr>\n",
       "\t<tr><td>79</td><td>42</td><td>0.00</td><td> 3</td><td>30.10</td></tr>\n",
       "\t<tr><td>94</td><td>68</td><td>0.03</td><td>18</td><td>29.68</td></tr>\n",
       "\t<tr><td>71</td><td>71</td><td>0.00</td><td> 6</td><td>29.94</td></tr>\n",
       "\t<tr><td>78</td><td>57</td><td>0.00</td><td>10</td><td>30.49</td></tr>\n",
       "\t<tr><td>55</td><td>73</td><td>0.00</td><td>15</td><td>29.84</td></tr>\n",
       "\t<tr><td>79</td><td>44</td><td>0.02</td><td>23</td><td>29.66</td></tr>\n",
       "\t<tr><td>83</td><td>55</td><td>0.00</td><td> 3</td><td>30.11</td></tr>\n",
       "\t<tr><td>74</td><td>75</td><td>0.00</td><td>14</td><td>29.78</td></tr>\n",
       "\t<tr><td>36</td><td>47</td><td>0.00</td><td>13</td><td>29.85</td></tr>\n",
       "\t<tr><td>89</td><td>42</td><td>0.00</td><td>22</td><td>29.58</td></tr>\n",
       "\t<tr><td>42</td><td>24</td><td>0.00</td><td>22</td><td>29.79</td></tr>\n",
       "\t<tr><td>⋮</td><td>⋮</td><td>⋮</td><td>⋮</td><td>⋮</td></tr>\n",
       "\t<tr><td> 71</td><td>51</td><td>0.00</td><td>13</td><td>29.77</td></tr>\n",
       "\t<tr><td> 62</td><td>76</td><td>0.00</td><td>21</td><td>29.97</td></tr>\n",
       "\t<tr><td> 94</td><td>54</td><td>0.00</td><td> 8</td><td>29.57</td></tr>\n",
       "\t<tr><td> 53</td><td>71</td><td>0.00</td><td> 6</td><td>29.99</td></tr>\n",
       "\t<tr><td> 90</td><td>75</td><td>0.00</td><td>10</td><td>29.95</td></tr>\n",
       "\t<tr><td> 40</td><td>63</td><td>0.00</td><td>11</td><td>30.07</td></tr>\n",
       "\t<tr><td> 40</td><td>46</td><td>0.00</td><td>14</td><td>30.30</td></tr>\n",
       "\t<tr><td> 67</td><td>84</td><td>0.00</td><td> 8</td><td>29.83</td></tr>\n",
       "\t<tr><td> 60</td><td>75</td><td>0.00</td><td> 9</td><td>29.98</td></tr>\n",
       "\t<tr><td> 87</td><td>58</td><td>0.02</td><td>10</td><td>29.87</td></tr>\n",
       "\t<tr><td> 54</td><td>34</td><td>0.00</td><td> 7</td><td>30.63</td></tr>\n",
       "\t<tr><td> 79</td><td>74</td><td>0.00</td><td>14</td><td>29.97</td></tr>\n",
       "\t<tr><td> 79</td><td>67</td><td>0.00</td><td> 5</td><td>30.17</td></tr>\n",
       "\t<tr><td> 57</td><td>36</td><td>0.00</td><td>20</td><td>29.72</td></tr>\n",
       "\t<tr><td> 71</td><td>67</td><td>0.00</td><td> 7</td><td>29.88</td></tr>\n",
       "\t<tr><td> 54</td><td>19</td><td>0.00</td><td> 9</td><td>30.36</td></tr>\n",
       "\t<tr><td> 34</td><td>54</td><td>0.00</td><td>13</td><td>29.97</td></tr>\n",
       "\t<tr><td> 32</td><td>18</td><td>0.00</td><td>20</td><td>30.48</td></tr>\n",
       "\t<tr><td> 78</td><td>26</td><td>0.00</td><td>22</td><td>29.91</td></tr>\n",
       "\t<tr><td> 52</td><td>18</td><td>0.00</td><td> 8</td><td>30.00</td></tr>\n",
       "\t<tr><td>100</td><td>40</td><td>0.03</td><td> 9</td><td>30.00</td></tr>\n",
       "\t<tr><td> 49</td><td>57</td><td>0.00</td><td>16</td><td>29.90</td></tr>\n",
       "\t<tr><td> 66</td><td>67</td><td>0.00</td><td>16</td><td>30.26</td></tr>\n",
       "\t<tr><td> 97</td><td>38</td><td>0.01</td><td>17</td><td>29.65</td></tr>\n",
       "\t<tr><td> 64</td><td>72</td><td>0.00</td><td> 9</td><td>30.21</td></tr>\n",
       "\t<tr><td> 67</td><td>61</td><td>0.00</td><td> 6</td><td>29.72</td></tr>\n",
       "\t<tr><td> NA</td><td>NA</td><td>0.00</td><td>NA</td><td>   NA</td></tr>\n",
       "\t<tr><td> 48</td><td>53</td><td>0.00</td><td> 3</td><td>30.26</td></tr>\n",
       "\t<tr><td> 75</td><td>32</td><td>0.00</td><td> 7</td><td>29.69</td></tr>\n",
       "\t<tr><td> 52</td><td>38</td><td>0.00</td><td> 0</td><td>29.97</td></tr>\n",
       "</tbody>\n",
       "</table>\n"
      ],
      "text/latex": [
       "A tibble: 5727 × 5\n",
       "\\begin{tabular}{lllll}\n",
       " relative\\_humidity & dry\\_bulb\\_temp\\_f & precip & wind\\_speed & station\\_pressure\\\\\n",
       " <dbl> & <dbl> & <dbl> & <dbl> & <dbl>\\\\\n",
       "\\hline\n",
       "\t 46 & 83 & 0.00 & 13 & 29.99\\\\\n",
       "\t 48 & 53 & 0.00 &  6 & 30.03\\\\\n",
       "\t 89 & 36 & 0.00 & 13 & 30.12\\\\\n",
       "\t 48 & 36 & 0.00 & 14 & 29.80\\\\\n",
       "\t 61 & 39 & 0.00 & 11 & 30.50\\\\\n",
       "\t 79 & 41 & 0.00 &  6 & 29.92\\\\\n",
       "\t 51 & 19 & 0.00 &  0 & 30.40\\\\\n",
       "\t 65 & 24 & 0.00 & 11 & 30.35\\\\\n",
       "\t 90 & 54 & 0.06 & 11 & 30.03\\\\\n",
       "\t 94 & 73 & 0.00 &  5 & 29.91\\\\\n",
       "\t 79 & 83 & 0.00 & 21 & 29.75\\\\\n",
       "\t 37 & 44 & 0.00 &  7 & 30.25\\\\\n",
       "\t 72 & 57 & 0.00 & 17 & 29.84\\\\\n",
       "\t 47 & 78 & 0.00 &  8 & 30.16\\\\\n",
       "\t 84 & 75 & 0.00 &  3 & 30.17\\\\\n",
       "\t 57 & 37 & 0.00 & 11 & 30.01\\\\\n",
       "\t 37 & 73 & 0.00 & 13 & 29.96\\\\\n",
       "\t 75 & 58 & 0.00 &  9 & 30.28\\\\\n",
       "\t 92 & 32 & 0.03 &  9 & 29.59\\\\\n",
       "\t 79 & 42 & 0.00 &  3 & 30.10\\\\\n",
       "\t 94 & 68 & 0.03 & 18 & 29.68\\\\\n",
       "\t 71 & 71 & 0.00 &  6 & 29.94\\\\\n",
       "\t 78 & 57 & 0.00 & 10 & 30.49\\\\\n",
       "\t 55 & 73 & 0.00 & 15 & 29.84\\\\\n",
       "\t 79 & 44 & 0.02 & 23 & 29.66\\\\\n",
       "\t 83 & 55 & 0.00 &  3 & 30.11\\\\\n",
       "\t 74 & 75 & 0.00 & 14 & 29.78\\\\\n",
       "\t 36 & 47 & 0.00 & 13 & 29.85\\\\\n",
       "\t 89 & 42 & 0.00 & 22 & 29.58\\\\\n",
       "\t 42 & 24 & 0.00 & 22 & 29.79\\\\\n",
       "\t ⋮ & ⋮ & ⋮ & ⋮ & ⋮\\\\\n",
       "\t  71 & 51 & 0.00 & 13 & 29.77\\\\\n",
       "\t  62 & 76 & 0.00 & 21 & 29.97\\\\\n",
       "\t  94 & 54 & 0.00 &  8 & 29.57\\\\\n",
       "\t  53 & 71 & 0.00 &  6 & 29.99\\\\\n",
       "\t  90 & 75 & 0.00 & 10 & 29.95\\\\\n",
       "\t  40 & 63 & 0.00 & 11 & 30.07\\\\\n",
       "\t  40 & 46 & 0.00 & 14 & 30.30\\\\\n",
       "\t  67 & 84 & 0.00 &  8 & 29.83\\\\\n",
       "\t  60 & 75 & 0.00 &  9 & 29.98\\\\\n",
       "\t  87 & 58 & 0.02 & 10 & 29.87\\\\\n",
       "\t  54 & 34 & 0.00 &  7 & 30.63\\\\\n",
       "\t  79 & 74 & 0.00 & 14 & 29.97\\\\\n",
       "\t  79 & 67 & 0.00 &  5 & 30.17\\\\\n",
       "\t  57 & 36 & 0.00 & 20 & 29.72\\\\\n",
       "\t  71 & 67 & 0.00 &  7 & 29.88\\\\\n",
       "\t  54 & 19 & 0.00 &  9 & 30.36\\\\\n",
       "\t  34 & 54 & 0.00 & 13 & 29.97\\\\\n",
       "\t  32 & 18 & 0.00 & 20 & 30.48\\\\\n",
       "\t  78 & 26 & 0.00 & 22 & 29.91\\\\\n",
       "\t  52 & 18 & 0.00 &  8 & 30.00\\\\\n",
       "\t 100 & 40 & 0.03 &  9 & 30.00\\\\\n",
       "\t  49 & 57 & 0.00 & 16 & 29.90\\\\\n",
       "\t  66 & 67 & 0.00 & 16 & 30.26\\\\\n",
       "\t  97 & 38 & 0.01 & 17 & 29.65\\\\\n",
       "\t  64 & 72 & 0.00 &  9 & 30.21\\\\\n",
       "\t  67 & 61 & 0.00 &  6 & 29.72\\\\\n",
       "\t  NA & NA & 0.00 & NA &    NA\\\\\n",
       "\t  48 & 53 & 0.00 &  3 & 30.26\\\\\n",
       "\t  75 & 32 & 0.00 &  7 & 29.69\\\\\n",
       "\t  52 & 38 & 0.00 &  0 & 29.97\\\\\n",
       "\\end{tabular}\n"
      ],
      "text/markdown": [
       "\n",
       "A tibble: 5727 × 5\n",
       "\n",
       "| relative_humidity &lt;dbl&gt; | dry_bulb_temp_f &lt;dbl&gt; | precip &lt;dbl&gt; | wind_speed &lt;dbl&gt; | station_pressure &lt;dbl&gt; |\n",
       "|---|---|---|---|---|\n",
       "| 46 | 83 | 0.00 | 13 | 29.99 |\n",
       "| 48 | 53 | 0.00 |  6 | 30.03 |\n",
       "| 89 | 36 | 0.00 | 13 | 30.12 |\n",
       "| 48 | 36 | 0.00 | 14 | 29.80 |\n",
       "| 61 | 39 | 0.00 | 11 | 30.50 |\n",
       "| 79 | 41 | 0.00 |  6 | 29.92 |\n",
       "| 51 | 19 | 0.00 |  0 | 30.40 |\n",
       "| 65 | 24 | 0.00 | 11 | 30.35 |\n",
       "| 90 | 54 | 0.06 | 11 | 30.03 |\n",
       "| 94 | 73 | 0.00 |  5 | 29.91 |\n",
       "| 79 | 83 | 0.00 | 21 | 29.75 |\n",
       "| 37 | 44 | 0.00 |  7 | 30.25 |\n",
       "| 72 | 57 | 0.00 | 17 | 29.84 |\n",
       "| 47 | 78 | 0.00 |  8 | 30.16 |\n",
       "| 84 | 75 | 0.00 |  3 | 30.17 |\n",
       "| 57 | 37 | 0.00 | 11 | 30.01 |\n",
       "| 37 | 73 | 0.00 | 13 | 29.96 |\n",
       "| 75 | 58 | 0.00 |  9 | 30.28 |\n",
       "| 92 | 32 | 0.03 |  9 | 29.59 |\n",
       "| 79 | 42 | 0.00 |  3 | 30.10 |\n",
       "| 94 | 68 | 0.03 | 18 | 29.68 |\n",
       "| 71 | 71 | 0.00 |  6 | 29.94 |\n",
       "| 78 | 57 | 0.00 | 10 | 30.49 |\n",
       "| 55 | 73 | 0.00 | 15 | 29.84 |\n",
       "| 79 | 44 | 0.02 | 23 | 29.66 |\n",
       "| 83 | 55 | 0.00 |  3 | 30.11 |\n",
       "| 74 | 75 | 0.00 | 14 | 29.78 |\n",
       "| 36 | 47 | 0.00 | 13 | 29.85 |\n",
       "| 89 | 42 | 0.00 | 22 | 29.58 |\n",
       "| 42 | 24 | 0.00 | 22 | 29.79 |\n",
       "| ⋮ | ⋮ | ⋮ | ⋮ | ⋮ |\n",
       "|  71 | 51 | 0.00 | 13 | 29.77 |\n",
       "|  62 | 76 | 0.00 | 21 | 29.97 |\n",
       "|  94 | 54 | 0.00 |  8 | 29.57 |\n",
       "|  53 | 71 | 0.00 |  6 | 29.99 |\n",
       "|  90 | 75 | 0.00 | 10 | 29.95 |\n",
       "|  40 | 63 | 0.00 | 11 | 30.07 |\n",
       "|  40 | 46 | 0.00 | 14 | 30.30 |\n",
       "|  67 | 84 | 0.00 |  8 | 29.83 |\n",
       "|  60 | 75 | 0.00 |  9 | 29.98 |\n",
       "|  87 | 58 | 0.02 | 10 | 29.87 |\n",
       "|  54 | 34 | 0.00 |  7 | 30.63 |\n",
       "|  79 | 74 | 0.00 | 14 | 29.97 |\n",
       "|  79 | 67 | 0.00 |  5 | 30.17 |\n",
       "|  57 | 36 | 0.00 | 20 | 29.72 |\n",
       "|  71 | 67 | 0.00 |  7 | 29.88 |\n",
       "|  54 | 19 | 0.00 |  9 | 30.36 |\n",
       "|  34 | 54 | 0.00 | 13 | 29.97 |\n",
       "|  32 | 18 | 0.00 | 20 | 30.48 |\n",
       "|  78 | 26 | 0.00 | 22 | 29.91 |\n",
       "|  52 | 18 | 0.00 |  8 | 30.00 |\n",
       "| 100 | 40 | 0.03 |  9 | 30.00 |\n",
       "|  49 | 57 | 0.00 | 16 | 29.90 |\n",
       "|  66 | 67 | 0.00 | 16 | 30.26 |\n",
       "|  97 | 38 | 0.01 | 17 | 29.65 |\n",
       "|  64 | 72 | 0.00 |  9 | 30.21 |\n",
       "|  67 | 61 | 0.00 |  6 | 29.72 |\n",
       "|  NA | NA | 0.00 | NA |    NA |\n",
       "|  48 | 53 | 0.00 |  3 | 30.26 |\n",
       "|  75 | 32 | 0.00 |  7 | 29.69 |\n",
       "|  52 | 38 | 0.00 |  0 | 29.97 |\n",
       "\n"
      ],
      "text/plain": [
       "     relative_humidity dry_bulb_temp_f precip wind_speed station_pressure\n",
       "1    46                83              0.00   13         29.99           \n",
       "2    48                53              0.00    6         30.03           \n",
       "3    89                36              0.00   13         30.12           \n",
       "4    48                36              0.00   14         29.80           \n",
       "5    61                39              0.00   11         30.50           \n",
       "6    79                41              0.00    6         29.92           \n",
       "7    51                19              0.00    0         30.40           \n",
       "8    65                24              0.00   11         30.35           \n",
       "9    90                54              0.06   11         30.03           \n",
       "10   94                73              0.00    5         29.91           \n",
       "11   79                83              0.00   21         29.75           \n",
       "12   37                44              0.00    7         30.25           \n",
       "13   72                57              0.00   17         29.84           \n",
       "14   47                78              0.00    8         30.16           \n",
       "15   84                75              0.00    3         30.17           \n",
       "16   57                37              0.00   11         30.01           \n",
       "17   37                73              0.00   13         29.96           \n",
       "18   75                58              0.00    9         30.28           \n",
       "19   92                32              0.03    9         29.59           \n",
       "20   79                42              0.00    3         30.10           \n",
       "21   94                68              0.03   18         29.68           \n",
       "22   71                71              0.00    6         29.94           \n",
       "23   78                57              0.00   10         30.49           \n",
       "24   55                73              0.00   15         29.84           \n",
       "25   79                44              0.02   23         29.66           \n",
       "26   83                55              0.00    3         30.11           \n",
       "27   74                75              0.00   14         29.78           \n",
       "28   36                47              0.00   13         29.85           \n",
       "29   89                42              0.00   22         29.58           \n",
       "30   42                24              0.00   22         29.79           \n",
       "⋮    ⋮                 ⋮               ⋮      ⋮          ⋮               \n",
       "5698  71               51              0.00   13         29.77           \n",
       "5699  62               76              0.00   21         29.97           \n",
       "5700  94               54              0.00    8         29.57           \n",
       "5701  53               71              0.00    6         29.99           \n",
       "5702  90               75              0.00   10         29.95           \n",
       "5703  40               63              0.00   11         30.07           \n",
       "5704  40               46              0.00   14         30.30           \n",
       "5705  67               84              0.00    8         29.83           \n",
       "5706  60               75              0.00    9         29.98           \n",
       "5707  87               58              0.02   10         29.87           \n",
       "5708  54               34              0.00    7         30.63           \n",
       "5709  79               74              0.00   14         29.97           \n",
       "5710  79               67              0.00    5         30.17           \n",
       "5711  57               36              0.00   20         29.72           \n",
       "5712  71               67              0.00    7         29.88           \n",
       "5713  54               19              0.00    9         30.36           \n",
       "5714  34               54              0.00   13         29.97           \n",
       "5715  32               18              0.00   20         30.48           \n",
       "5716  78               26              0.00   22         29.91           \n",
       "5717  52               18              0.00    8         30.00           \n",
       "5718 100               40              0.03    9         30.00           \n",
       "5719  49               57              0.00   16         29.90           \n",
       "5720  66               67              0.00   16         30.26           \n",
       "5721  97               38              0.01   17         29.65           \n",
       "5722  64               72              0.00    9         30.21           \n",
       "5723  67               61              0.00    6         29.72           \n",
       "5724  NA               NA              0.00   NA            NA           \n",
       "5725  48               53              0.00    3         30.26           \n",
       "5726  75               32              0.00    7         29.69           \n",
       "5727  52               38              0.00    0         29.97           "
      ]
     },
     "metadata": {},
     "output_type": "display_data"
    }
   ],
   "source": [
    "new_weather2<-new_weather1%>%rename(\"relative_humidity\"=\"HOURLYRelativeHumidity\",\n",
    "                     \"dry_bulb_temp_f\"=\"HOURLYDRYBULBTEMPF\",\n",
    "                     \"precip\"=\"HOURLYPrecip\",\n",
    "                     \"wind_speed\"=\"HOURLYWindSpeed\",\n",
    "                     \"station_pressure\"=\"HOURLYStationPressure\")\n",
    "new_weather2"
   ]
  },
  {
   "cell_type": "code",
   "execution_count": 50,
   "id": "3289ded2-571c-4359-9b62-0200528794fd",
   "metadata": {},
   "outputs": [],
   "source": [
    "set.seed(1234)\n",
    "weather_split<-initial_split(new_weather2, prop=0.8)\n",
    "train_data<-training(weather_split)\n",
    "test_data<-testing(weather_split)"
   ]
  },
  {
   "cell_type": "code",
   "execution_count": 51,
   "id": "6df77db9-3cb9-459c-89b1-2fd21ae15c23",
   "metadata": {},
   "outputs": [
    {
     "data": {
      "text/html": [
       "<table>\n",
       "<caption>A tibble: 4581 × 5</caption>\n",
       "<thead>\n",
       "\t<tr><th scope=col>relative_humidity</th><th scope=col>dry_bulb_temp_f</th><th scope=col>precip</th><th scope=col>wind_speed</th><th scope=col>station_pressure</th></tr>\n",
       "\t<tr><th scope=col>&lt;dbl&gt;</th><th scope=col>&lt;dbl&gt;</th><th scope=col>&lt;dbl&gt;</th><th scope=col>&lt;dbl&gt;</th><th scope=col>&lt;dbl&gt;</th></tr>\n",
       "</thead>\n",
       "<tbody>\n",
       "\t<tr><td> 34</td><td>21</td><td>0.00</td><td>36</td><td>30.09</td></tr>\n",
       "\t<tr><td> 27</td><td>44</td><td>0.00</td><td> 8</td><td>29.87</td></tr>\n",
       "\t<tr><td> 63</td><td>47</td><td>0.00</td><td>21</td><td>30.03</td></tr>\n",
       "\t<tr><td> 79</td><td>71</td><td>0.00</td><td> 6</td><td>29.67</td></tr>\n",
       "\t<tr><td> 48</td><td>78</td><td>0.00</td><td> 8</td><td>29.94</td></tr>\n",
       "\t<tr><td> 75</td><td>62</td><td>0.00</td><td> 5</td><td>30.38</td></tr>\n",
       "\t<tr><td> 52</td><td>33</td><td>0.00</td><td>10</td><td>30.75</td></tr>\n",
       "\t<tr><td> 27</td><td>82</td><td>0.00</td><td>13</td><td>29.89</td></tr>\n",
       "\t<tr><td> 43</td><td>42</td><td>0.00</td><td>15</td><td>29.90</td></tr>\n",
       "\t<tr><td> 16</td><td>45</td><td>0.00</td><td> 9</td><td>30.23</td></tr>\n",
       "\t<tr><td> 79</td><td>75</td><td>0.00</td><td>11</td><td>30.06</td></tr>\n",
       "\t<tr><td> 93</td><td>63</td><td>0.00</td><td>20</td><td>29.81</td></tr>\n",
       "\t<tr><td> 82</td><td>77</td><td>0.00</td><td>15</td><td>29.78</td></tr>\n",
       "\t<tr><td> 76</td><td>74</td><td>0.00</td><td>11</td><td>29.98</td></tr>\n",
       "\t<tr><td> 79</td><td>41</td><td>0.00</td><td> 9</td><td>29.92</td></tr>\n",
       "\t<tr><td>100</td><td>73</td><td>0.00</td><td> 7</td><td>29.85</td></tr>\n",
       "\t<tr><td> 75</td><td>32</td><td>0.00</td><td> 8</td><td>30.22</td></tr>\n",
       "\t<tr><td> 83</td><td>73</td><td>0.00</td><td>10</td><td>29.94</td></tr>\n",
       "\t<tr><td> 78</td><td>61</td><td>0.00</td><td> 7</td><td>29.72</td></tr>\n",
       "\t<tr><td> 44</td><td>72</td><td>0.00</td><td> 8</td><td>29.87</td></tr>\n",
       "\t<tr><td> 88</td><td>74</td><td>0.00</td><td> 3</td><td>30.21</td></tr>\n",
       "\t<tr><td> 84</td><td>67</td><td>0.00</td><td> 8</td><td>30.09</td></tr>\n",
       "\t<tr><td> 60</td><td>38</td><td>0.00</td><td>17</td><td>29.70</td></tr>\n",
       "\t<tr><td> 79</td><td>73</td><td>0.00</td><td> 6</td><td>30.17</td></tr>\n",
       "\t<tr><td> 70</td><td>66</td><td>0.00</td><td> 0</td><td>30.21</td></tr>\n",
       "\t<tr><td> 44</td><td>22</td><td>0.00</td><td>15</td><td>30.43</td></tr>\n",
       "\t<tr><td> 83</td><td>57</td><td>0.00</td><td>10</td><td>29.76</td></tr>\n",
       "\t<tr><td> 77</td><td>79</td><td>0.02</td><td>11</td><td>29.91</td></tr>\n",
       "\t<tr><td> 59</td><td>37</td><td>0.00</td><td>13</td><td>29.90</td></tr>\n",
       "\t<tr><td> 36</td><td>31</td><td>0.00</td><td>16</td><td>30.37</td></tr>\n",
       "\t<tr><td>⋮</td><td>⋮</td><td>⋮</td><td>⋮</td><td>⋮</td></tr>\n",
       "\t<tr><td>64</td><td>70</td><td>0.00</td><td> 7</td><td>30.14</td></tr>\n",
       "\t<tr><td>90</td><td>47</td><td>0.00</td><td> 5</td><td>29.97</td></tr>\n",
       "\t<tr><td>63</td><td>45</td><td>0.00</td><td>10</td><td>30.24</td></tr>\n",
       "\t<tr><td>87</td><td>64</td><td>0.04</td><td>39</td><td>   NA</td></tr>\n",
       "\t<tr><td>44</td><td>55</td><td>0.00</td><td>10</td><td>30.01</td></tr>\n",
       "\t<tr><td>NA</td><td>NA</td><td>0.00</td><td>NA</td><td>   NA</td></tr>\n",
       "\t<tr><td>89</td><td>38</td><td>0.00</td><td> 0</td><td>30.17</td></tr>\n",
       "\t<tr><td>82</td><td>50</td><td>0.00</td><td>11</td><td>29.79</td></tr>\n",
       "\t<tr><td>68</td><td>44</td><td>0.00</td><td>20</td><td>29.86</td></tr>\n",
       "\t<tr><td>73</td><td>36</td><td>0.00</td><td> 6</td><td>30.44</td></tr>\n",
       "\t<tr><td>49</td><td>80</td><td>0.00</td><td> 7</td><td>30.04</td></tr>\n",
       "\t<tr><td>32</td><td>46</td><td>0.00</td><td>16</td><td>29.67</td></tr>\n",
       "\t<tr><td>46</td><td>62</td><td>0.00</td><td>15</td><td>29.68</td></tr>\n",
       "\t<tr><td>72</td><td>58</td><td>0.00</td><td>11</td><td>30.03</td></tr>\n",
       "\t<tr><td>56</td><td>45</td><td>0.00</td><td>17</td><td>29.83</td></tr>\n",
       "\t<tr><td>89</td><td>34</td><td>0.00</td><td> 7</td><td>29.69</td></tr>\n",
       "\t<tr><td>66</td><td>51</td><td>0.00</td><td> 8</td><td>29.80</td></tr>\n",
       "\t<tr><td>36</td><td>48</td><td>0.00</td><td>18</td><td>29.77</td></tr>\n",
       "\t<tr><td>73</td><td>70</td><td>0.00</td><td>21</td><td>29.93</td></tr>\n",
       "\t<tr><td>49</td><td>45</td><td>0.00</td><td>11</td><td>30.14</td></tr>\n",
       "\t<tr><td>32</td><td>64</td><td>0.00</td><td>15</td><td>29.92</td></tr>\n",
       "\t<tr><td>90</td><td>58</td><td>0.00</td><td> 6</td><td>29.72</td></tr>\n",
       "\t<tr><td>69</td><td>79</td><td>0.00</td><td>10</td><td>29.64</td></tr>\n",
       "\t<tr><td>76</td><td>75</td><td>0.00</td><td> 5</td><td>29.69</td></tr>\n",
       "\t<tr><td>83</td><td>52</td><td>0.00</td><td> 6</td><td>30.31</td></tr>\n",
       "\t<tr><td>44</td><td>15</td><td>0.00</td><td>21</td><td>30.35</td></tr>\n",
       "\t<tr><td>66</td><td>67</td><td>0.00</td><td>10</td><td>29.65</td></tr>\n",
       "\t<tr><td>52</td><td>34</td><td>0.00</td><td> 5</td><td>30.40</td></tr>\n",
       "\t<tr><td>63</td><td>71</td><td>0.00</td><td> 9</td><td>30.07</td></tr>\n",
       "\t<tr><td>66</td><td>49</td><td>0.00</td><td>18</td><td>30.14</td></tr>\n",
       "</tbody>\n",
       "</table>\n"
      ],
      "text/latex": [
       "A tibble: 4581 × 5\n",
       "\\begin{tabular}{lllll}\n",
       " relative\\_humidity & dry\\_bulb\\_temp\\_f & precip & wind\\_speed & station\\_pressure\\\\\n",
       " <dbl> & <dbl> & <dbl> & <dbl> & <dbl>\\\\\n",
       "\\hline\n",
       "\t  34 & 21 & 0.00 & 36 & 30.09\\\\\n",
       "\t  27 & 44 & 0.00 &  8 & 29.87\\\\\n",
       "\t  63 & 47 & 0.00 & 21 & 30.03\\\\\n",
       "\t  79 & 71 & 0.00 &  6 & 29.67\\\\\n",
       "\t  48 & 78 & 0.00 &  8 & 29.94\\\\\n",
       "\t  75 & 62 & 0.00 &  5 & 30.38\\\\\n",
       "\t  52 & 33 & 0.00 & 10 & 30.75\\\\\n",
       "\t  27 & 82 & 0.00 & 13 & 29.89\\\\\n",
       "\t  43 & 42 & 0.00 & 15 & 29.90\\\\\n",
       "\t  16 & 45 & 0.00 &  9 & 30.23\\\\\n",
       "\t  79 & 75 & 0.00 & 11 & 30.06\\\\\n",
       "\t  93 & 63 & 0.00 & 20 & 29.81\\\\\n",
       "\t  82 & 77 & 0.00 & 15 & 29.78\\\\\n",
       "\t  76 & 74 & 0.00 & 11 & 29.98\\\\\n",
       "\t  79 & 41 & 0.00 &  9 & 29.92\\\\\n",
       "\t 100 & 73 & 0.00 &  7 & 29.85\\\\\n",
       "\t  75 & 32 & 0.00 &  8 & 30.22\\\\\n",
       "\t  83 & 73 & 0.00 & 10 & 29.94\\\\\n",
       "\t  78 & 61 & 0.00 &  7 & 29.72\\\\\n",
       "\t  44 & 72 & 0.00 &  8 & 29.87\\\\\n",
       "\t  88 & 74 & 0.00 &  3 & 30.21\\\\\n",
       "\t  84 & 67 & 0.00 &  8 & 30.09\\\\\n",
       "\t  60 & 38 & 0.00 & 17 & 29.70\\\\\n",
       "\t  79 & 73 & 0.00 &  6 & 30.17\\\\\n",
       "\t  70 & 66 & 0.00 &  0 & 30.21\\\\\n",
       "\t  44 & 22 & 0.00 & 15 & 30.43\\\\\n",
       "\t  83 & 57 & 0.00 & 10 & 29.76\\\\\n",
       "\t  77 & 79 & 0.02 & 11 & 29.91\\\\\n",
       "\t  59 & 37 & 0.00 & 13 & 29.90\\\\\n",
       "\t  36 & 31 & 0.00 & 16 & 30.37\\\\\n",
       "\t ⋮ & ⋮ & ⋮ & ⋮ & ⋮\\\\\n",
       "\t 64 & 70 & 0.00 &  7 & 30.14\\\\\n",
       "\t 90 & 47 & 0.00 &  5 & 29.97\\\\\n",
       "\t 63 & 45 & 0.00 & 10 & 30.24\\\\\n",
       "\t 87 & 64 & 0.04 & 39 &    NA\\\\\n",
       "\t 44 & 55 & 0.00 & 10 & 30.01\\\\\n",
       "\t NA & NA & 0.00 & NA &    NA\\\\\n",
       "\t 89 & 38 & 0.00 &  0 & 30.17\\\\\n",
       "\t 82 & 50 & 0.00 & 11 & 29.79\\\\\n",
       "\t 68 & 44 & 0.00 & 20 & 29.86\\\\\n",
       "\t 73 & 36 & 0.00 &  6 & 30.44\\\\\n",
       "\t 49 & 80 & 0.00 &  7 & 30.04\\\\\n",
       "\t 32 & 46 & 0.00 & 16 & 29.67\\\\\n",
       "\t 46 & 62 & 0.00 & 15 & 29.68\\\\\n",
       "\t 72 & 58 & 0.00 & 11 & 30.03\\\\\n",
       "\t 56 & 45 & 0.00 & 17 & 29.83\\\\\n",
       "\t 89 & 34 & 0.00 &  7 & 29.69\\\\\n",
       "\t 66 & 51 & 0.00 &  8 & 29.80\\\\\n",
       "\t 36 & 48 & 0.00 & 18 & 29.77\\\\\n",
       "\t 73 & 70 & 0.00 & 21 & 29.93\\\\\n",
       "\t 49 & 45 & 0.00 & 11 & 30.14\\\\\n",
       "\t 32 & 64 & 0.00 & 15 & 29.92\\\\\n",
       "\t 90 & 58 & 0.00 &  6 & 29.72\\\\\n",
       "\t 69 & 79 & 0.00 & 10 & 29.64\\\\\n",
       "\t 76 & 75 & 0.00 &  5 & 29.69\\\\\n",
       "\t 83 & 52 & 0.00 &  6 & 30.31\\\\\n",
       "\t 44 & 15 & 0.00 & 21 & 30.35\\\\\n",
       "\t 66 & 67 & 0.00 & 10 & 29.65\\\\\n",
       "\t 52 & 34 & 0.00 &  5 & 30.40\\\\\n",
       "\t 63 & 71 & 0.00 &  9 & 30.07\\\\\n",
       "\t 66 & 49 & 0.00 & 18 & 30.14\\\\\n",
       "\\end{tabular}\n"
      ],
      "text/markdown": [
       "\n",
       "A tibble: 4581 × 5\n",
       "\n",
       "| relative_humidity &lt;dbl&gt; | dry_bulb_temp_f &lt;dbl&gt; | precip &lt;dbl&gt; | wind_speed &lt;dbl&gt; | station_pressure &lt;dbl&gt; |\n",
       "|---|---|---|---|---|\n",
       "|  34 | 21 | 0.00 | 36 | 30.09 |\n",
       "|  27 | 44 | 0.00 |  8 | 29.87 |\n",
       "|  63 | 47 | 0.00 | 21 | 30.03 |\n",
       "|  79 | 71 | 0.00 |  6 | 29.67 |\n",
       "|  48 | 78 | 0.00 |  8 | 29.94 |\n",
       "|  75 | 62 | 0.00 |  5 | 30.38 |\n",
       "|  52 | 33 | 0.00 | 10 | 30.75 |\n",
       "|  27 | 82 | 0.00 | 13 | 29.89 |\n",
       "|  43 | 42 | 0.00 | 15 | 29.90 |\n",
       "|  16 | 45 | 0.00 |  9 | 30.23 |\n",
       "|  79 | 75 | 0.00 | 11 | 30.06 |\n",
       "|  93 | 63 | 0.00 | 20 | 29.81 |\n",
       "|  82 | 77 | 0.00 | 15 | 29.78 |\n",
       "|  76 | 74 | 0.00 | 11 | 29.98 |\n",
       "|  79 | 41 | 0.00 |  9 | 29.92 |\n",
       "| 100 | 73 | 0.00 |  7 | 29.85 |\n",
       "|  75 | 32 | 0.00 |  8 | 30.22 |\n",
       "|  83 | 73 | 0.00 | 10 | 29.94 |\n",
       "|  78 | 61 | 0.00 |  7 | 29.72 |\n",
       "|  44 | 72 | 0.00 |  8 | 29.87 |\n",
       "|  88 | 74 | 0.00 |  3 | 30.21 |\n",
       "|  84 | 67 | 0.00 |  8 | 30.09 |\n",
       "|  60 | 38 | 0.00 | 17 | 29.70 |\n",
       "|  79 | 73 | 0.00 |  6 | 30.17 |\n",
       "|  70 | 66 | 0.00 |  0 | 30.21 |\n",
       "|  44 | 22 | 0.00 | 15 | 30.43 |\n",
       "|  83 | 57 | 0.00 | 10 | 29.76 |\n",
       "|  77 | 79 | 0.02 | 11 | 29.91 |\n",
       "|  59 | 37 | 0.00 | 13 | 29.90 |\n",
       "|  36 | 31 | 0.00 | 16 | 30.37 |\n",
       "| ⋮ | ⋮ | ⋮ | ⋮ | ⋮ |\n",
       "| 64 | 70 | 0.00 |  7 | 30.14 |\n",
       "| 90 | 47 | 0.00 |  5 | 29.97 |\n",
       "| 63 | 45 | 0.00 | 10 | 30.24 |\n",
       "| 87 | 64 | 0.04 | 39 |    NA |\n",
       "| 44 | 55 | 0.00 | 10 | 30.01 |\n",
       "| NA | NA | 0.00 | NA |    NA |\n",
       "| 89 | 38 | 0.00 |  0 | 30.17 |\n",
       "| 82 | 50 | 0.00 | 11 | 29.79 |\n",
       "| 68 | 44 | 0.00 | 20 | 29.86 |\n",
       "| 73 | 36 | 0.00 |  6 | 30.44 |\n",
       "| 49 | 80 | 0.00 |  7 | 30.04 |\n",
       "| 32 | 46 | 0.00 | 16 | 29.67 |\n",
       "| 46 | 62 | 0.00 | 15 | 29.68 |\n",
       "| 72 | 58 | 0.00 | 11 | 30.03 |\n",
       "| 56 | 45 | 0.00 | 17 | 29.83 |\n",
       "| 89 | 34 | 0.00 |  7 | 29.69 |\n",
       "| 66 | 51 | 0.00 |  8 | 29.80 |\n",
       "| 36 | 48 | 0.00 | 18 | 29.77 |\n",
       "| 73 | 70 | 0.00 | 21 | 29.93 |\n",
       "| 49 | 45 | 0.00 | 11 | 30.14 |\n",
       "| 32 | 64 | 0.00 | 15 | 29.92 |\n",
       "| 90 | 58 | 0.00 |  6 | 29.72 |\n",
       "| 69 | 79 | 0.00 | 10 | 29.64 |\n",
       "| 76 | 75 | 0.00 |  5 | 29.69 |\n",
       "| 83 | 52 | 0.00 |  6 | 30.31 |\n",
       "| 44 | 15 | 0.00 | 21 | 30.35 |\n",
       "| 66 | 67 | 0.00 | 10 | 29.65 |\n",
       "| 52 | 34 | 0.00 |  5 | 30.40 |\n",
       "| 63 | 71 | 0.00 |  9 | 30.07 |\n",
       "| 66 | 49 | 0.00 | 18 | 30.14 |\n",
       "\n"
      ],
      "text/plain": [
       "     relative_humidity dry_bulb_temp_f precip wind_speed station_pressure\n",
       "1     34               21              0.00   36         30.09           \n",
       "2     27               44              0.00    8         29.87           \n",
       "3     63               47              0.00   21         30.03           \n",
       "4     79               71              0.00    6         29.67           \n",
       "5     48               78              0.00    8         29.94           \n",
       "6     75               62              0.00    5         30.38           \n",
       "7     52               33              0.00   10         30.75           \n",
       "8     27               82              0.00   13         29.89           \n",
       "9     43               42              0.00   15         29.90           \n",
       "10    16               45              0.00    9         30.23           \n",
       "11    79               75              0.00   11         30.06           \n",
       "12    93               63              0.00   20         29.81           \n",
       "13    82               77              0.00   15         29.78           \n",
       "14    76               74              0.00   11         29.98           \n",
       "15    79               41              0.00    9         29.92           \n",
       "16   100               73              0.00    7         29.85           \n",
       "17    75               32              0.00    8         30.22           \n",
       "18    83               73              0.00   10         29.94           \n",
       "19    78               61              0.00    7         29.72           \n",
       "20    44               72              0.00    8         29.87           \n",
       "21    88               74              0.00    3         30.21           \n",
       "22    84               67              0.00    8         30.09           \n",
       "23    60               38              0.00   17         29.70           \n",
       "24    79               73              0.00    6         30.17           \n",
       "25    70               66              0.00    0         30.21           \n",
       "26    44               22              0.00   15         30.43           \n",
       "27    83               57              0.00   10         29.76           \n",
       "28    77               79              0.02   11         29.91           \n",
       "29    59               37              0.00   13         29.90           \n",
       "30    36               31              0.00   16         30.37           \n",
       "⋮    ⋮                 ⋮               ⋮      ⋮          ⋮               \n",
       "4552 64                70              0.00    7         30.14           \n",
       "4553 90                47              0.00    5         29.97           \n",
       "4554 63                45              0.00   10         30.24           \n",
       "4555 87                64              0.04   39            NA           \n",
       "4556 44                55              0.00   10         30.01           \n",
       "4557 NA                NA              0.00   NA            NA           \n",
       "4558 89                38              0.00    0         30.17           \n",
       "4559 82                50              0.00   11         29.79           \n",
       "4560 68                44              0.00   20         29.86           \n",
       "4561 73                36              0.00    6         30.44           \n",
       "4562 49                80              0.00    7         30.04           \n",
       "4563 32                46              0.00   16         29.67           \n",
       "4564 46                62              0.00   15         29.68           \n",
       "4565 72                58              0.00   11         30.03           \n",
       "4566 56                45              0.00   17         29.83           \n",
       "4567 89                34              0.00    7         29.69           \n",
       "4568 66                51              0.00    8         29.80           \n",
       "4569 36                48              0.00   18         29.77           \n",
       "4570 73                70              0.00   21         29.93           \n",
       "4571 49                45              0.00   11         30.14           \n",
       "4572 32                64              0.00   15         29.92           \n",
       "4573 90                58              0.00    6         29.72           \n",
       "4574 69                79              0.00   10         29.64           \n",
       "4575 76                75              0.00    5         29.69           \n",
       "4576 83                52              0.00    6         30.31           \n",
       "4577 44                15              0.00   21         30.35           \n",
       "4578 66                67              0.00   10         29.65           \n",
       "4579 52                34              0.00    5         30.40           \n",
       "4580 63                71              0.00    9         30.07           \n",
       "4581 66                49              0.00   18         30.14           "
      ]
     },
     "metadata": {},
     "output_type": "display_data"
    }
   ],
   "source": [
    "train_data"
   ]
  },
  {
   "cell_type": "code",
   "execution_count": 60,
   "id": "794ed30f-8947-48f6-b820-891676805f36",
   "metadata": {},
   "outputs": [
    {
     "name": "stderr",
     "output_type": "stream",
     "text": [
      "`stat_bin()` using `bins = 30`. Pick better value with `binwidth`.\n",
      "Warning message:\n",
      "“Removed 130 rows containing non-finite values (stat_bin).”"
     ]
    },
    {
     "data": {},
     "metadata": {},
     "output_type": "display_data"
    },
    {
     "data": {
      "image/png": "[encoded data removed]",
      "text/plain": [
       "plot without title"
      ]
     },
     "metadata": {},
     "output_type": "display_data",
     "source": "R display func"
    }
   ],
   "source": [
    "ggplot(train_data, aes(x=relative_humidity)) +\n",
    "       geom_histogram()"
   ]
  },
  {
   "cell_type": "code",
   "execution_count": 61,
   "id": "8a5e84be-9c7c-4cbc-bee9-bdb1832d7ba0",
   "metadata": {},
   "outputs": [
    {
     "name": "stderr",
     "output_type": "stream",
     "text": [
      "`stat_bin()` using `bins = 30`. Pick better value with `binwidth`.\n",
      "Warning message:\n",
      "“Removed 130 rows containing non-finite values (stat_bin).”"
     ]
    },
    {
     "data": {},
     "metadata": {},
     "output_type": "display_data"
    },
    {
     "data": {
      "image/png": "[encoded data removed]",
      "text/plain": [
       "plot without title"
      ]
     },
     "metadata": {},
     "output_type": "display_data",
     "source": "R display func"
    }
   ],
   "source": [
    "ggplot(train_data, aes(x=dry_bulb_temp_f)) +\n",
    "       geom_histogram()"
   ]
  },
  {
   "cell_type": "code",
   "execution_count": 62,
   "id": "294f8e70-03d7-4a6b-8aff-bc7c0234f6be",
   "metadata": {},
   "outputs": [
    {
     "name": "stderr",
     "output_type": "stream",
     "text": [
      "`stat_bin()` using `bins = 30`. Pick better value with `binwidth`.\n"
     ]
    },
    {
     "data": {},
     "metadata": {},
     "output_type": "display_data"
    },
    {
     "data": {
      "image/png": "[encoded data removed]",
      "text/plain": [
       "plot without title"
      ]
     },
     "metadata": {},
     "output_type": "display_data",
     "source": "R display func"
    }
   ],
   "source": [
    "ggplot(train_data, aes(x=precip)) +\n",
    "       geom_histogram()"
   ]
  },
  {
   "cell_type": "code",
   "execution_count": 64,
   "id": "a33300de-9322-4f91-85df-10ea68439c20",
   "metadata": {},
   "outputs": [
    {
     "name": "stderr",
     "output_type": "stream",
     "text": [
      "`stat_bin()` using `bins = 30`. Pick better value with `binwidth`.\n",
      "Warning message:\n",
      "“Removed 135 rows containing non-finite values (stat_bin).”"
     ]
    },
    {
     "data": {},
     "metadata": {},
     "output_type": "display_data"
    },
    {
     "data": {
      "image/png": "[encoded data removed]",
      "text/plain": [
       "plot without title"
      ]
     },
     "metadata": {},
     "output_type": "display_data",
     "source": "R display func"
    }
   ],
   "source": [
    "ggplot(train_data, aes(x=wind_speed)) +\n",
    "       geom_histogram()"
   ]
  },
  {
   "cell_type": "code",
   "execution_count": 65,
   "id": "5e192e44-a96e-441c-9ba0-8dafa4b344d0",
   "metadata": {},
   "outputs": [
    {
     "name": "stderr",
     "output_type": "stream",
     "text": [
      "`stat_bin()` using `bins = 30`. Pick better value with `binwidth`.\n",
      "Warning message:\n",
      "“Removed 135 rows containing non-finite values (stat_bin).”"
     ]
    },
    {
     "data": {},
     "metadata": {},
     "output_type": "display_data"
    },
    {
     "data": {
      "image/png": "[encoded data removed]",
      "text/plain": [
       "plot without title"
      ]
     },
     "metadata": {},
     "output_type": "display_data",
     "source": "R display func"
    }
   ],
   "source": [
    "ggplot(train_data, aes(x=station_pressure)) +\n",
    "       geom_histogram()"
   ]
  },
  {
   "cell_type": "code",
   "execution_count": 66,
   "id": "99672240-96aa-4040-89d4-3916123d4883",
   "metadata": {},
   "outputs": [
    {
     "data": {
      "text/plain": [
       "\n",
       "Call:\n",
       "lm(formula = precip ~ relative_humidity, data = new_weather2)\n",
       "\n",
       "Residuals:\n",
       "     Min       1Q   Median       3Q      Max \n",
       "-0.01415 -0.00877 -0.00396  0.00086  1.17698 \n",
       "\n",
       "Coefficients:\n",
       "                    Estimate Std. Error t value Pr(>|t|)    \n",
       "(Intercept)       -1.417e-02  1.647e-03  -8.603   <2e-16 ***\n",
       "relative_humidity  2.832e-04  2.358e-05  12.009   <2e-16 ***\n",
       "---\n",
       "Signif. codes:  0 ‘***’ 0.001 ‘**’ 0.01 ‘*’ 0.05 ‘.’ 0.1 ‘ ’ 1\n",
       "\n",
       "Residual standard error: 0.03527 on 5574 degrees of freedom\n",
       "  (151 observations deleted due to missingness)\n",
       "Multiple R-squared:  0.02522,\tAdjusted R-squared:  0.02504 \n",
       "F-statistic: 144.2 on 1 and 5574 DF,  p-value: < 2.2e-16\n"
      ]
     },
     "metadata": {},
     "output_type": "display_data"
    },
    {
     "data": {
      "text/plain": [
       "\n",
       "Call:\n",
       "lm(formula = precip ~ dry_bulb_temp_f, data = new_weather2)\n",
       "\n",
       "Residuals:\n",
       "     Min       1Q   Median       3Q      Max \n",
       "-0.00555 -0.00503 -0.00475 -0.00448  1.18500 \n",
       "\n",
       "Coefficients:\n",
       "                 Estimate Std. Error t value Pr(>|t|)  \n",
       "(Intercept)     3.780e-03  1.628e-03   2.322   0.0202 *\n",
       "dry_bulb_temp_f 1.791e-05  2.798e-05   0.640   0.5220  \n",
       "---\n",
       "Signif. codes:  0 ‘***’ 0.001 ‘**’ 0.01 ‘*’ 0.05 ‘.’ 0.1 ‘ ’ 1\n",
       "\n",
       "Residual standard error: 0.03572 on 5574 degrees of freedom\n",
       "  (151 observations deleted due to missingness)\n",
       "Multiple R-squared:  7.353e-05,\tAdjusted R-squared:  -0.0001059 \n",
       "F-statistic: 0.4099 on 1 and 5574 DF,  p-value: 0.522\n"
      ]
     },
     "metadata": {},
     "output_type": "display_data"
    },
    {
     "data": {
      "text/plain": [
       "\n",
       "Call:\n",
       "lm(formula = precip ~ wind_speed, data = new_weather2)\n",
       "\n",
       "Residuals:\n",
       "     Min       1Q   Median       3Q      Max \n",
       "-0.02047 -0.00586 -0.00394 -0.00279  1.18107 \n",
       "\n",
       "Coefficients:\n",
       "             Estimate Std. Error t value Pr(>|t|)    \n",
       "(Intercept) 4.791e-04  9.782e-04   0.490    0.624    \n",
       "wind_speed  3.843e-04  7.628e-05   5.039 4.83e-07 ***\n",
       "---\n",
       "Signif. codes:  0 ‘***’ 0.001 ‘**’ 0.01 ‘*’ 0.05 ‘.’ 0.1 ‘ ’ 1\n",
       "\n",
       "Residual standard error: 0.03566 on 5569 degrees of freedom\n",
       "  (156 observations deleted due to missingness)\n",
       "Multiple R-squared:  0.004538,\tAdjusted R-squared:  0.00436 \n",
       "F-statistic: 25.39 on 1 and 5569 DF,  p-value: 4.831e-07\n"
      ]
     },
     "metadata": {},
     "output_type": "display_data"
    },
    {
     "data": {
      "text/plain": [
       "\n",
       "Call:\n",
       "lm(formula = precip ~ station_pressure, data = new_weather2)\n",
       "\n",
       "Residuals:\n",
       "     Min       1Q   Median       3Q      Max \n",
       "-0.02655 -0.00680 -0.00429 -0.00145  1.18018 \n",
       "\n",
       "Coefficients:\n",
       "                  Estimate Std. Error t value Pr(>|t|)    \n",
       "(Intercept)       0.506644   0.059819    8.47   <2e-16 ***\n",
       "station_pressure -0.016734   0.001994   -8.39   <2e-16 ***\n",
       "---\n",
       "Signif. codes:  0 ‘***’ 0.001 ‘**’ 0.01 ‘*’ 0.05 ‘.’ 0.1 ‘ ’ 1\n",
       "\n",
       "Residual standard error: 0.03552 on 5567 degrees of freedom\n",
       "  (158 observations deleted due to missingness)\n",
       "Multiple R-squared:  0.01249,\tAdjusted R-squared:  0.01231 \n",
       "F-statistic: 70.39 on 1 and 5567 DF,  p-value: < 2.2e-16\n"
      ]
     },
     "metadata": {},
     "output_type": "display_data"
    }
   ],
   "source": [
    "linear_model<-lm(precip ~ relative_humidity, data=new_weather2)\n",
    "linear_model1<-lm(precip ~ dry_bulb_temp_f, data=new_weather2)\n",
    "linear_model2<-lm(precip ~ wind_speed, data=new_weather2)\n",
    "linear_model3<-lm(precip ~ station_pressure, data=new_weather2)\n",
    "\n",
    "summary(linear_model)\n",
    "summary(linear_model1)\n",
    "summary(linear_model2)\n",
    "summary(linear_model3)"
   ]
  },
  {
   "cell_type": "code",
   "execution_count": 77,
   "id": "72e9705a-b0a8-43a4-a17e-13dd79fa7cd6",
   "metadata": {},
   "outputs": [
    {
     "name": "stderr",
     "output_type": "stream",
     "text": [
      "`geom_smooth()` using formula 'y ~ x'\n",
      "Warning message:\n",
      "“Removed 151 rows containing non-finite values (stat_smooth).”Warning message:\n",
      "“Removed 151 rows containing missing values (geom_point).”"
     ]
    },
    {
     "data": {},
     "metadata": {},
     "output_type": "display_data"
    },
    {
     "data": {
      "image/png": "[encoded data removed]",
      "text/plain": [
       "plot without title"
      ]
     },
     "metadata": {},
     "output_type": "display_data",
     "source": "R display func"
    }
   ],
   "source": [
    "ggplot(new_weather2, aes(x=relative_humidity, y=precip)) +\n",
    "geom_point() +\n",
    "stat_smooth(method=\"lm\", color=\"red\")"
   ]
  },
  {
   "cell_type": "code",
   "execution_count": 76,
   "id": "a58fa88b-bf6f-43e9-bbfd-1237905527ae",
   "metadata": {},
   "outputs": [
    {
     "name": "stderr",
     "output_type": "stream",
     "text": [
      "Warning message:\n",
      "“Removed 151 rows containing missing values (geom_point).”"
     ]
    },
    {
     "data": {},
     "metadata": {},
     "output_type": "display_data"
    },
    {
     "data": {
      "text/plain": [
       "geom_smooth: se = FALSE, na.rm = FALSE, orientation = NA\n",
       "stat_smooth: method = lm, formula = NULL, se = FALSE, n = 80, fullrange = FALSE, level = 0.95, na.rm = FALSE, orientation = NA, method.args = list(), span = 0.75\n",
       "position_identity "
      ]
     },
     "metadata": {},
     "output_type": "display_data"
    },
    {
     "data": {
      "image/png": "[encoded data removed]",
      "text/plain": [
       "plot without title"
      ]
     },
     "metadata": {},
     "output_type": "display_data",
     "source": "R display func"
    }
   ],
   "source": [
    "ggplot(new_weather2, aes(x=dry_bulb_temp_f, y=precip)) + \n",
    "geom_point()\n",
    "stat_smooth(method=\"lm\", se=FALSE, color=\"red\")"
   ]
  },
  {
   "cell_type": "code",
   "execution_count": 75,
   "id": "d007d082-1898-4a68-8007-6c4d59af4ea5",
   "metadata": {},
   "outputs": [
    {
     "name": "stderr",
     "output_type": "stream",
     "text": [
      "Warning message:\n",
      "“Removed 156 rows containing missing values (geom_point).”"
     ]
    },
    {
     "data": {},
     "metadata": {},
     "output_type": "display_data"
    },
    {
     "data": {
      "text/plain": [
       "geom_smooth: se = TRUE, na.rm = FALSE, orientation = NA\n",
       "stat_smooth: method = lm, formula = NULL, se = TRUE, n = 80, fullrange = FALSE, level = 0.95, na.rm = FALSE, orientation = NA, method.args = list(), span = 0.75\n",
       "position_identity "
      ]
     },
     "metadata": {},
     "output_type": "display_data"
    },
    {
     "data": {
      "image/png": "[encoded data removed]",
      "text/plain": [
       "plot without title"
      ]
     },
     "metadata": {},
     "output_type": "display_data",
     "source": "R display func"
    }
   ],
   "source": [
    "ggplot(new_weather2, aes(x=wind_speed, y=precip)) + \n",
    "geom_point()\n",
    "stat_smooth(method=\"lm\", color=\"red\")"
   ]
  },
  {
   "cell_type": "code",
   "execution_count": 74,
   "id": "b6724ea6-b0fb-4bff-81b2-7b0c467b014a",
   "metadata": {},
   "outputs": [
    {
     "name": "stderr",
     "output_type": "stream",
     "text": [
      "Warning message:\n",
      "“Removed 158 rows containing missing values (geom_point).”"
     ]
    },
    {
     "data": {},
     "metadata": {},
     "output_type": "display_data"
    },
    {
     "data": {
      "text/plain": [
       "geom_smooth: se = FALSE, na.rm = FALSE, orientation = NA\n",
       "stat_smooth: method = lm, formula = NULL, se = FALSE, n = 80, fullrange = FALSE, level = 0.95, na.rm = FALSE, orientation = NA, method.args = list(), span = 0.75\n",
       "position_identity "
      ]
     },
     "metadata": {},
     "output_type": "display_data"
    },
    {
     "data": {
      "image/png": "[encoded data removed]",
      "text/plain": [
       "plot without title"
      ]
     },
     "metadata": {},
     "output_type": "display_data",
     "source": "R display func"
    }
   ],
   "source": [
    "ggplot(new_weather2, aes(x=station_pressure, y=precip)) + \n",
    "geom_point()\n",
    "stat_smooth(method=\"lm\", se=FALSE, color=\"red\")"
   ]
  },
  {
   "cell_type": "code",
   "execution_count": 83,
   "id": "865a14f5-6442-41c5-a798-27dd3a4d8384",
   "metadata": {},
   "outputs": [
    {
     "data": {
      "text/plain": [
       "\n",
       "Call:\n",
       "lm(formula = precip ~ relative_humidity + wind_speed, data = train_data)\n",
       "\n",
       "Residuals:\n",
       "     Min       1Q   Median       3Q      Max \n",
       "-0.02969 -0.00744 -0.00342  0.00095  0.74098 \n",
       "\n",
       "Coefficients:\n",
       "                    Estimate Std. Error t value Pr(>|t|)    \n",
       "(Intercept)       -2.043e-02  1.932e-03 -10.577  < 2e-16 ***\n",
       "relative_humidity  2.867e-04  2.257e-05  12.700  < 2e-16 ***\n",
       "wind_speed         5.008e-04  7.197e-05   6.959 3.93e-12 ***\n",
       "---\n",
       "Signif. codes:  0 ‘***’ 0.001 ‘**’ 0.01 ‘*’ 0.05 ‘.’ 0.1 ‘ ’ 1\n",
       "\n",
       "Residual standard error: 0.02927 on 4442 degrees of freedom\n",
       "  (136 observations deleted due to missingness)\n",
       "Multiple R-squared:  0.03823,\tAdjusted R-squared:  0.0378 \n",
       "F-statistic: 88.28 on 2 and 4442 DF,  p-value: < 2.2e-16\n"
      ]
     },
     "metadata": {},
     "output_type": "display_data"
    }
   ],
   "source": [
    "mlr<-lm(precip ~ relative_humidity + wind_speed, data=train_data)\n",
    "summary(mlr)"
   ]
  },
  {
   "cell_type": "code",
   "execution_count": 84,
   "id": "d36ad9e0-9845-466c-bde7-c9a249581e49",
   "metadata": {},
   "outputs": [
    {
     "data": {
      "text/plain": [
       "\n",
       "Call:\n",
       "lm(formula = precip ~ poly(wind_speed, 2, raw = TRUE), data = train_data)\n",
       "\n",
       "Residuals:\n",
       "     Min       1Q   Median       3Q      Max \n",
       "-0.04541 -0.00424 -0.00349 -0.00320  0.74673 \n",
       "\n",
       "Coefficients:\n",
       "                                   Estimate Std. Error t value Pr(>|t|)   \n",
       "(Intercept)                       4.238e-03  1.317e-03   3.219  0.00130 **\n",
       "poly(wind_speed, 2, raw = TRUE)1 -2.984e-04  1.988e-04  -1.501  0.13340   \n",
       "poly(wind_speed, 2, raw = TRUE)2  2.096e-05  6.827e-06   3.071  0.00215 **\n",
       "---\n",
       "Signif. codes:  0 ‘***’ 0.001 ‘**’ 0.01 ‘*’ 0.05 ‘.’ 0.1 ‘ ’ 1\n",
       "\n",
       "Residual standard error: 0.02977 on 4443 degrees of freedom\n",
       "  (135 observations deleted due to missingness)\n",
       "Multiple R-squared:  0.005409,\tAdjusted R-squared:  0.004961 \n",
       "F-statistic: 12.08 on 2 and 4443 DF,  p-value: 5.851e-06\n"
      ]
     },
     "metadata": {},
     "output_type": "display_data"
    }
   ],
   "source": [
    "polyfit2<-lm(precip ~ poly(wind_speed, 2, raw = TRUE), data=train_data)\n",
    "summary(polyfit2)"
   ]
  },
  {
   "cell_type": "code",
   "execution_count": 92,
   "id": "cfabd4c1-55b1-49fa-9dfa-9278e31bb93c",
   "metadata": {},
   "outputs": [
    {
     "data": {
      "text/html": [
       "0.000856374891914238"
      ],
      "text/latex": [
       "0.000856374891914238"
      ],
      "text/markdown": [
       "0.000856374891914238"
      ],
      "text/plain": [
       "[1] 0.0008563749"
      ]
     },
     "metadata": {},
     "output_type": "display_data"
    }
   ],
   "source": [
    "mse1<-mean(mlr$residuals^2)\n",
    "mse1"
   ]
  },
  {
   "cell_type": "code",
   "execution_count": 93,
   "id": "57d286f8-0ec0-4b6e-b69b-d582793d0781",
   "metadata": {},
   "outputs": [
    {
     "data": {
      "text/html": [
       "0.0292638837462535"
      ],
      "text/latex": [
       "0.0292638837462535"
      ],
      "text/markdown": [
       "0.0292638837462535"
      ],
      "text/plain": [
       "[1] 0.02926388"
      ]
     },
     "metadata": {},
     "output_type": "display_data"
    }
   ],
   "source": [
    "rmse1<-sqrt(mse)\n",
    "rmse1"
   ]
  },
  {
   "cell_type": "code",
   "execution_count": 91,
   "id": "4a6077e8-4c74-4fe8-bc20-85ad36a5663d",
   "metadata": {},
   "outputs": [
    {
     "data": {
      "text/html": [
       "0.0382286537278885"
      ],
      "text/latex": [
       "0.0382286537278885"
      ],
      "text/markdown": [
       "0.0382286537278885"
      ],
      "text/plain": [
       "[1] 0.03822865"
      ]
     },
     "metadata": {},
     "output_type": "display_data"
    }
   ],
   "source": [
    "summary(mlr)$r.squared"
   ]
  },
  {
   "cell_type": "code",
   "execution_count": 94,
   "id": "772a07a1-8b34-433e-abda-8d1d1ce5355b",
   "metadata": {},
   "outputs": [
    {
     "data": {
      "text/html": [
       "0.000885402984487837"
      ],
      "text/latex": [
       "0.000885402984487837"
      ],
      "text/markdown": [
       "0.000885402984487837"
      ],
      "text/plain": [
       "[1] 0.000885403"
      ]
     },
     "metadata": {},
     "output_type": "display_data"
    }
   ],
   "source": [
    "mse<-mean(polyfit2$residuals^2)\n",
    "mse"
   ]
  },
  {
   "cell_type": "code",
   "execution_count": 96,
   "id": "238fc089-2691-4313-898a-26eafaa6b94e",
   "metadata": {},
   "outputs": [
    {
     "data": {
      "text/html": [
       "0.0297557218781168"
      ],
      "text/latex": [
       "0.0297557218781168"
      ],
      "text/markdown": [
       "0.0297557218781168"
      ],
      "text/plain": [
       "[1] 0.02975572"
      ]
     },
     "metadata": {},
     "output_type": "display_data"
    }
   ],
   "source": [
    "rmse<-sqrt(mse)\n",
    "rmse"
   ]
  },
  {
   "cell_type": "code",
   "execution_count": 97,
   "id": "05683907-0099-408e-b5d9-ec530d477bd5",
   "metadata": {},
   "outputs": [
    {
     "data": {
      "text/html": [
       "0.00540905771478642"
      ],
      "text/latex": [
       "0.00540905771478642"
      ],
      "text/markdown": [
       "0.00540905771478642"
      ],
      "text/plain": [
       "[1] 0.005409058"
      ]
     },
     "metadata": {},
     "output_type": "display_data"
    }
   ],
   "source": [
    "summary(polyfit2)$r.squared"
   ]
  },
  {
   "cell_type": "code",
   "execution_count": 102,
   "id": "70858576-be5d-40b5-b16e-e08c27731b19",
   "metadata": {},
   "outputs": [],
   "source": [
    "comparison_df<-matrix(c('Metric','MSE','RMSE','RSQUARED','Multiple Regression',0.000,0.292,0.038,'Polynomial Regression',0.000,0.297,0.005), \n",
    "                      nrow=4, ncol=3)"
   ]
  },
  {
   "cell_type": "code",
   "execution_count": 103,
   "id": "3641de71-418a-4413-bc7d-41d34cc0241c",
   "metadata": {},
   "outputs": [
    {
     "data": {
      "text/html": [
       "<table>\n",
       "<caption>A matrix: 4 × 3 of type chr</caption>\n",
       "<tbody>\n",
       "\t<tr><td>Metric  </td><td>Multiple Regression</td><td>Polynomial Regression</td></tr>\n",
       "\t<tr><td>MSE     </td><td>0                  </td><td>0                    </td></tr>\n",
       "\t<tr><td>RMSE    </td><td>0.292              </td><td>0.297                </td></tr>\n",
       "\t<tr><td>RSQUARED</td><td>0.038              </td><td>0.005                </td></tr>\n",
       "</tbody>\n",
       "</table>\n"
      ],
      "text/latex": [
       "A matrix: 4 × 3 of type chr\n",
       "\\begin{tabular}{lll}\n",
       "\t Metric   & Multiple Regression & Polynomial Regression\\\\\n",
       "\t MSE      & 0                   & 0                    \\\\\n",
       "\t RMSE     & 0.292               & 0.297                \\\\\n",
       "\t RSQUARED & 0.038               & 0.005                \\\\\n",
       "\\end{tabular}\n"
      ],
      "text/markdown": [
       "\n",
       "A matrix: 4 × 3 of type chr\n",
       "\n",
       "| Metric   | Multiple Regression | Polynomial Regression |\n",
       "| MSE      | 0                   | 0                     |\n",
       "| RMSE     | 0.292               | 0.297                 |\n",
       "| RSQUARED | 0.038               | 0.005                 |\n",
       "\n"
      ],
      "text/plain": [
       "     [,1]     [,2]                [,3]                 \n",
       "[1,] Metric   Multiple Regression Polynomial Regression\n",
       "[2,] MSE      0                   0                    \n",
       "[3,] RMSE     0.292               0.297                \n",
       "[4,] RSQUARED 0.038               0.005                "
      ]
     },
     "metadata": {},
     "output_type": "display_data"
    }
   ],
   "source": [
    "comparison_df"
   ]
  },
  {
   "cell_type": "code",
   "execution_count": 104,
   "id": "ed0cb35e-84ec-4f8e-b1da-bef1136031de",
   "metadata": {},
   "outputs": [
    {
     "data": {
      "text/plain": [
       "  A        B                   C                    \n",
       "A Metric   Multiple Regression Polynomial Regression\n",
       "B MSE      0                   0                    \n",
       "C RMSE     0.292               0.297                \n",
       "D RSQUARED 0.038               0.005                "
      ]
     },
     "metadata": {},
     "output_type": "display_data"
    }
   ],
   "source": [
    "comparison_table<-as.table(comparison_df)\n",
    "comparison_table"
   ]
  },
  {
   "cell_type": "code",
   "execution_count": null,
   "id": "59b5375b-f83f-48b1-b71b-bf4aaa821b3f",
   "metadata": {},
   "outputs": [],
   "source": [
    "#As the MSE value is smaller for the multiple regression (mlr) model and R.squared value is higher for the same model, we can se t"
   ]
  }
 ],
 "metadata": {
  "kernelspec": {
   "display_name": "R",
   "language": "R",
   "name": "conda-env-r-r"
  },
  "language_info": {
   "codemirror_mode": "r",
   "file_extension": ".r",
   "mimetype": "text/x-r-source",
   "name": "R",
   "pygments_lexer": "r",
   "version": "3.5.1"
  }
 },
 "nbformat": 4,
 "nbformat_minor": 5
}
